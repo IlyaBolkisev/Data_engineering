{
 "cells": [
  {
   "cell_type": "markdown",
   "id": "211bc652",
   "metadata": {},
   "source": [
    "# Задание 1"
   ]
  },
  {
   "cell_type": "code",
   "execution_count": 2,
   "id": "6002eec7",
   "metadata": {
    "scrolled": true
   },
   "outputs": [
    {
     "data": {
      "text/plain": [
       "<sqlite3.Cursor at 0x21147b0a880>"
      ]
     },
     "execution_count": 2,
     "metadata": {},
     "output_type": "execute_result"
    }
   ],
   "source": [
    "import sqlite3\n",
    "conn = sqlite3.connect('database.db')\n",
    "cur = conn.cursor()\n",
    "sql = \"\"\"\n",
    "    CREATE TABLE DataTable1 (\n",
    "        title TEXT,\n",
    "        author TEXT,\n",
    "        genre TEXT,\n",
    "        pages INTEGER, \n",
    "        published_year INTEGER,\n",
    "        isbn TEXT,\n",
    "        rating FLOAT,\n",
    "        views INTEGER\n",
    "        )\"\"\"\n",
    "\n",
    "cur.execute(sql)"
   ]
  },
  {
   "cell_type": "code",
   "execution_count": 3,
   "id": "608fbbba",
   "metadata": {},
   "outputs": [],
   "source": [
    "with open('./1/task_1_var_02_item.text', 'r', encoding='utf-8') as f:\n",
    "    lines = f.readlines()\n",
    "\n",
    "for item in [[lines[i*9+j].strip().split('::')[-1] for j in range(8)] for i in range(len(lines)//9)]:\n",
    "    cur.execute(\"\"\"INSERT INTO DataTable1 VALUES (\n",
    "        :title,\n",
    "        :author,\n",
    "        :genre,\n",
    "        :pages, \n",
    "        :published_year,\n",
    "        :isbn,\n",
    "        :rating,\n",
    "        :views)\"\"\", item)\n",
    "conn.commit()"
   ]
  },
  {
   "cell_type": "code",
   "execution_count": 4,
   "id": "b6606c4b",
   "metadata": {},
   "outputs": [],
   "source": [
    "import json\n",
    "\n",
    "def get_from_head(conn, sort_col, n):\n",
    "    cur = conn.cursor()\n",
    "    samples = cur.execute(f\"\"\"SELECT title,\n",
    "        author,\n",
    "        genre,\n",
    "        pages, \n",
    "        published_year,\n",
    "        isbn,\n",
    "        rating,\n",
    "        views \n",
    "        FROM DataTable1 ORDER BY {sort_col} DESC LIMIT {str(n)}\"\"\")\n",
    "    return samples\n",
    "\n",
    "\n",
    "cur = get_from_head(conn, 'rating', 12)\n",
    "\n",
    "keys = ['title', 'author', 'genre', 'pages', 'published_year', 'isbn', 'rating', 'views']\n",
    "result = []\n",
    "for row in cur.fetchall():\n",
    "    result.append({keys[i]: str(e) for i, e in enumerate(row)})\n",
    "    \n",
    "with open(\"1_top.json\", \"w\", encoding=\"utf-8\") as outfile: \n",
    "    json.dump(result, outfile, ensure_ascii=True)"
   ]
  },
  {
   "cell_type": "code",
   "execution_count": 5,
   "id": "82a265df",
   "metadata": {},
   "outputs": [],
   "source": [
    "def get_stats(conn, col):\n",
    "    cur = conn.cursor()\n",
    "    stats = cur.execute(f\"\"\"SELECT \n",
    "        SUM({col}), MIN({col}), MAX({col}), AVG({col})  \n",
    "        FROM DataTable1\"\"\")\n",
    "    return stats.fetchone()\n",
    "\n",
    "stats = get_stats(conn, 'rating')\n",
    "keys = ['sum', 'min', 'max', 'avg']\n",
    "\n",
    "with open(\"1_stats.json\", \"w\", encoding=\"utf-8\") as outfile: \n",
    "    json.dump({keys[i]: str(e) for i, e in enumerate(stats)}, outfile, ensure_ascii=True)"
   ]
  },
  {
   "cell_type": "code",
   "execution_count": 6,
   "id": "ad91ec00",
   "metadata": {},
   "outputs": [],
   "source": [
    "def get_freq(conn, col):\n",
    "    cur = conn.cursor()\n",
    "    freq = cur.execute(f\"\"\"SELECT \n",
    "        {col}, COUNT(*)\n",
    "        FROM DataTable1 GROUP BY {col}\"\"\")\n",
    "    return freq\n",
    "\n",
    "freq = get_freq(conn, 'genre')\n",
    "freq = {e[0]: str(e[1]) for e in freq}\n",
    "\n",
    "with open(\"1_freq.json\", \"w\", encoding=\"utf-8\") as outfile: \n",
    "    json.dump(freq, outfile, ensure_ascii=True)"
   ]
  },
  {
   "cell_type": "code",
   "execution_count": 7,
   "id": "e8846bae",
   "metadata": {},
   "outputs": [],
   "source": [
    "def get_from_head_with_condition(conn, sort_col, n, condition):\n",
    "    cur = conn.cursor()\n",
    "    samples = cur.execute(f\"\"\"SELECT title,\n",
    "        author,\n",
    "        genre,\n",
    "        pages, \n",
    "        published_year,\n",
    "        isbn,\n",
    "        rating,\n",
    "        views \n",
    "        FROM DataTable1 WHERE {condition} ORDER BY {sort_col} DESC LIMIT {str(n)}\"\"\")\n",
    "    return samples\n",
    "\n",
    "\n",
    "cur = get_from_head_with_condition(conn, 'rating', 12, 'published_year > 1900')\n",
    "\n",
    "keys = ['title', 'author', 'genre', 'pages', 'published_year', 'isbn', 'rating', 'views']\n",
    "result = []\n",
    "for row in cur.fetchall():\n",
    "    result.append({keys[i]: str(e) for i, e in enumerate(row)})\n",
    "    \n",
    "with open(\"1_top_with_condition.json\", \"w\", encoding=\"utf-8\") as outfile: \n",
    "    json.dump(result, outfile, ensure_ascii=True)"
   ]
  },
  {
   "cell_type": "markdown",
   "id": "df1e6ae3",
   "metadata": {},
   "source": [
    "# Задание 2"
   ]
  },
  {
   "cell_type": "code",
   "execution_count": 8,
   "id": "c95758fb",
   "metadata": {},
   "outputs": [
    {
     "data": {
      "text/plain": [
       "<sqlite3.Cursor at 0x211496fd2d0>"
      ]
     },
     "execution_count": 8,
     "metadata": {},
     "output_type": "execute_result"
    }
   ],
   "source": [
    "sql = \"\"\"\n",
    "    CREATE TABLE DataTable2 (\n",
    "        title TEXT,\n",
    "        price INTEGER,\n",
    "        place TEXT,\n",
    "        data DATETIME\n",
    "        )\"\"\"\n",
    "\n",
    "cur.execute(sql)"
   ]
  },
  {
   "cell_type": "code",
   "execution_count": 9,
   "id": "636206d8",
   "metadata": {},
   "outputs": [
    {
     "data": {
      "text/plain": [
       "{'title': 'Дюна', 'price': 4368, 'place': 'offline', 'date': '3.5.2014'}"
      ]
     },
     "execution_count": 9,
     "metadata": {},
     "output_type": "execute_result"
    }
   ],
   "source": [
    "import msgpack\n",
    "    \n",
    "with open(\"./2/task_2_var_02_subitem.msgpack\", \"rb\") as data_file:\n",
    "    byte_data = data_file.read()\n",
    "    data = msgpack.unpackb(byte_data)\n",
    "data[0]"
   ]
  },
  {
   "cell_type": "code",
   "execution_count": 10,
   "id": "74763b0c",
   "metadata": {},
   "outputs": [],
   "source": [
    "for item in data:\n",
    "    cur.execute(\"\"\"INSERT INTO DataTable2 VALUES (\n",
    "        :title,\n",
    "        :price,\n",
    "        :place,\n",
    "        :data)\"\"\", list(item.values()))\n",
    "conn.commit()"
   ]
  },
  {
   "cell_type": "code",
   "execution_count": 11,
   "id": "b64cd6fb",
   "metadata": {},
   "outputs": [],
   "source": [
    "def get_from_head_both(conn, n):\n",
    "    cur = conn.cursor()\n",
    "    samples = cur.execute(f\"\"\"SELECT DataTable1.title,\n",
    "        DataTable1.author,\n",
    "        DataTable1.genre,\n",
    "        DataTable1.pages, \n",
    "        DataTable1.published_year,\n",
    "        DataTable1.isbn,\n",
    "        DataTable1.rating,\n",
    "        DataTable1.views,\n",
    "        DataTable2.price,\n",
    "        DataTable2.place,\n",
    "        DataTable2.data        \n",
    "        FROM DataTable1 JOIN DataTable2 ON DataTable1.title = DataTable2.title\"\"\")\n",
    "    return samples\n",
    "\n",
    "\n",
    "cur = get_from_head_both(conn, 12)\n",
    "\n",
    "keys = ['title', 'author', 'genre', 'pages', 'published_year', 'isbn', 'rating', 'views', 'price', 'place', 'data']\n",
    "result = []\n",
    "for row in cur.fetchall():\n",
    "    result.append({keys[i]: str(e) for i, e in enumerate(row)})\n",
    "    \n",
    "with open(\"2_top_from_both.json\", \"w\", encoding=\"utf-8\") as outfile: \n",
    "    json.dump(result, outfile, ensure_ascii=True)"
   ]
  },
  {
   "cell_type": "code",
   "execution_count": 12,
   "id": "45798511",
   "metadata": {},
   "outputs": [],
   "source": [
    "def get_from_head_both_with_condition(conn, n, condition):\n",
    "    cur = conn.cursor()\n",
    "    samples = cur.execute(f\"\"\"SELECT DataTable1.title,\n",
    "        DataTable1.author,\n",
    "        DataTable1.genre,\n",
    "        DataTable1.pages, \n",
    "        DataTable1.published_year,\n",
    "        DataTable1.isbn,\n",
    "        DataTable1.rating,\n",
    "        DataTable1.views,\n",
    "        DataTable2.price,\n",
    "        DataTable2.place,\n",
    "        DataTable2.data        \n",
    "        FROM DataTable1 JOIN DataTable2 ON DataTable1.title = DataTable2.title\n",
    "        WHERE {condition}\"\"\")\n",
    "    return samples\n",
    "\n",
    "\n",
    "cur = get_from_head_both_with_condition(conn, 12, 'DataTable2.price > 1000')\n",
    "\n",
    "keys = ['title', 'author', 'genre', 'pages', 'published_year', 'isbn', 'rating', 'views', 'price', 'place', 'data']\n",
    "result = []\n",
    "for row in cur.fetchall():\n",
    "    result.append({keys[i]: str(e) for i, e in enumerate(row)})\n",
    "    \n",
    "with open(\"2_top_from_both_with_condition.json\", \"w\", encoding=\"utf-8\") as outfile: \n",
    "    json.dump(result, outfile, ensure_ascii=True)"
   ]
  },
  {
   "cell_type": "code",
   "execution_count": 13,
   "id": "5aff5ccd",
   "metadata": {},
   "outputs": [],
   "source": [
    "def get_from_head_both_ordered(conn, n, sort_col):\n",
    "    cur = conn.cursor()\n",
    "    samples = cur.execute(f\"\"\"SELECT DataTable1.title,\n",
    "        DataTable1.author,\n",
    "        DataTable1.genre,\n",
    "        DataTable1.pages, \n",
    "        DataTable1.published_year\n",
    "        FROM DataTable1 JOIN DataTable2 ON DataTable1.title = DataTable2.title\n",
    "        ORDER BY {sort_col}\"\"\")\n",
    "    return samples\n",
    "\n",
    "\n",
    "cur = get_from_head_both_ordered(conn, 12, 'DataTable2.price')\n",
    "\n",
    "keys = ['title', 'author', 'genre', 'pages', 'published_year']\n",
    "result = []\n",
    "for row in cur.fetchall():\n",
    "    result.append({keys[i]: str(e) for i, e in enumerate(row)})\n",
    "    \n",
    "with open(\"2_top_from_both_ordered.json\", \"w\", encoding=\"utf-8\") as outfile: \n",
    "    json.dump(result, outfile, ensure_ascii=True)"
   ]
  },
  {
   "cell_type": "markdown",
   "id": "239e2ff5",
   "metadata": {},
   "source": [
    "# Задание 3"
   ]
  },
  {
   "cell_type": "code",
   "execution_count": 14,
   "id": "4a0ae3fc",
   "metadata": {},
   "outputs": [
    {
     "data": {
      "text/plain": [
       "(1198, 802)"
      ]
     },
     "execution_count": 14,
     "metadata": {},
     "output_type": "execute_result"
    }
   ],
   "source": [
    "with open(\"3/task_3_var_02_part_1.json\", encoding='utf-8') as f:\n",
    "    part1 = json.load(f)\n",
    "    \n",
    "import msgpack\n",
    "    \n",
    "with open(\"3/task_3_var_02_part_2.msgpack\", \"rb\") as data_file:\n",
    "    byte_data = data_file.read()\n",
    "    part2 = msgpack.unpackb(byte_data)\n",
    "len(part1), len(part2)"
   ]
  },
  {
   "cell_type": "code",
   "execution_count": 15,
   "id": "cb1fa582",
   "metadata": {},
   "outputs": [
    {
     "data": {
      "text/plain": [
       "2000"
      ]
     },
     "execution_count": 15,
     "metadata": {},
     "output_type": "execute_result"
    }
   ],
   "source": [
    "common_keys = ['artist', 'song', 'duration_ms', 'year', 'tempo', 'genre']\n",
    "\n",
    "result = [{key: e[key] for key in common_keys} for e in part1] + [{key: e[key] for key in common_keys} for e in part2]\n",
    "len(result)"
   ]
  },
  {
   "cell_type": "code",
   "execution_count": 16,
   "id": "3a48c9e1",
   "metadata": {},
   "outputs": [
    {
     "data": {
      "text/plain": [
       "<sqlite3.Cursor at 0x21149ebece0>"
      ]
     },
     "execution_count": 16,
     "metadata": {},
     "output_type": "execute_result"
    }
   ],
   "source": [
    "sql = \"\"\"\n",
    "    CREATE TABLE DataTable3 (\n",
    "        artist TEXT, \n",
    "        song TEXT, \n",
    "        duration_ms INTEGER,\n",
    "        year INTEGER,\n",
    "        tempo FLOAT, \n",
    "        genre TEXT\n",
    "        )\"\"\"\n",
    "\n",
    "cur.execute(sql)"
   ]
  },
  {
   "cell_type": "code",
   "execution_count": 17,
   "id": "78a70afa",
   "metadata": {},
   "outputs": [],
   "source": [
    "for item in result:\n",
    "    cur.execute(\"\"\"INSERT INTO DataTable3 VALUES (\n",
    "        :artist,\n",
    "        :song,\n",
    "        :duration_ms,\n",
    "        :year, \n",
    "        :tempo,\n",
    "        :genre)\"\"\", list(item.values()))\n",
    "conn.commit()"
   ]
  },
  {
   "cell_type": "code",
   "execution_count": 18,
   "id": "d7ac7f05",
   "metadata": {},
   "outputs": [],
   "source": [
    "def get_from_head(conn, sort_col, n):\n",
    "    cur = conn.cursor()\n",
    "    samples = cur.execute(f\"\"\"SELECT artist,\n",
    "        song,\n",
    "        duration_ms,\n",
    "        year, \n",
    "        tempo,\n",
    "        genre\n",
    "        FROM DataTable3 ORDER BY {sort_col} DESC LIMIT {str(n)}\"\"\")\n",
    "    return samples\n",
    "\n",
    "\n",
    "cur = get_from_head(conn, 'year', 12)\n",
    "\n",
    "keys = ['title', 'author', 'genre', 'pages', 'published_year', 'isbn', 'rating', 'views']\n",
    "result = []\n",
    "for row in cur.fetchall():\n",
    "    result.append({keys[i]: str(e) for i, e in enumerate(row)})\n",
    "    \n",
    "with open(\"3_top.json\", \"w\", encoding=\"utf-8\") as outfile: \n",
    "    json.dump(result, outfile, ensure_ascii=True)"
   ]
  },
  {
   "cell_type": "code",
   "execution_count": 19,
   "id": "040d5bef",
   "metadata": {},
   "outputs": [],
   "source": [
    "def get_stats(conn, col):\n",
    "    cur = conn.cursor()\n",
    "    stats = cur.execute(f\"\"\"SELECT \n",
    "        SUM({col}), MIN({col}), MAX({col}), AVG({col})  \n",
    "        FROM DataTable3\"\"\")\n",
    "    return stats.fetchone()\n",
    "\n",
    "stats = get_stats(conn, 'duration_ms')\n",
    "keys = ['sum', 'min', 'max', 'avg']\n",
    "\n",
    "with open(\"3_stats.json\", \"w\", encoding=\"utf-8\") as outfile: \n",
    "    json.dump({keys[i]: str(e) for i, e in enumerate(stats)}, outfile, ensure_ascii=True)"
   ]
  },
  {
   "cell_type": "code",
   "execution_count": 20,
   "id": "76d57070",
   "metadata": {},
   "outputs": [],
   "source": [
    "def get_freq(conn, col):\n",
    "    cur = conn.cursor()\n",
    "    freq = cur.execute(f\"\"\"SELECT \n",
    "        {col}, COUNT(*)\n",
    "        FROM DataTable3 GROUP BY {col}\"\"\")\n",
    "    return freq\n",
    "\n",
    "freq = get_freq(conn, 'artist')\n",
    "freq = {e[0]: str(e[1]) for e in freq}\n",
    "\n",
    "with open(\"3_freq.json\", \"w\", encoding=\"utf-8\") as outfile: \n",
    "    json.dump(freq, outfile, ensure_ascii=True)"
   ]
  },
  {
   "cell_type": "code",
   "execution_count": 21,
   "id": "09d1115f",
   "metadata": {},
   "outputs": [],
   "source": [
    "def get_from_head_with_condition(conn, sort_col, n, condition):\n",
    "    cur = conn.cursor()\n",
    "    samples = cur.execute(f\"\"\"SELECT artist,\n",
    "        song,\n",
    "        duration_ms,\n",
    "        year, \n",
    "        tempo,\n",
    "        genre\n",
    "        FROM DataTable3 WHERE {condition} ORDER BY {sort_col} DESC LIMIT {str(n)}\"\"\")\n",
    "    return samples\n",
    "\n",
    "\n",
    "cur = get_from_head_with_condition(conn, 'year', 17, 'genre == \"rock, pop\"')\n",
    "\n",
    "keys = ['title', 'author', 'genre', 'pages', 'published_year', 'isbn', 'rating', 'views']\n",
    "result = []\n",
    "for row in cur.fetchall():\n",
    "    result.append({keys[i]: str(e) for i, e in enumerate(row)})\n",
    "    \n",
    "with open(\"3_top_with_condition.json\", \"w\", encoding=\"utf-8\") as outfile: \n",
    "    json.dump(result, outfile, ensure_ascii=True)"
   ]
  },
  {
   "cell_type": "markdown",
   "id": "a2fbf43e",
   "metadata": {},
   "source": [
    "# Задание 4"
   ]
  },
  {
   "cell_type": "code",
   "execution_count": 22,
   "id": "cbd91bda",
   "metadata": {},
   "outputs": [],
   "source": [
    "import pickle\n",
    "\n",
    "with open('./4/task_4_var_02_product_data.pkl', \"rb\") as f:\n",
    "    product_data = pickle.load(f)\n",
    "with open('./4/task_4_var_02_update_data.json', encoding='utf-8') as f:\n",
    "    update_data = json.load(f)"
   ]
  },
  {
   "cell_type": "code",
   "execution_count": 23,
   "id": "b8f02bd3",
   "metadata": {},
   "outputs": [],
   "source": [
    "import numpy as np\n",
    "\n",
    "def fill_dict(d, keys):\n",
    "    for key in keys:\n",
    "        if key not in d:\n",
    "            d[key] = None\n",
    "    return d\n",
    "\n",
    "\n",
    "keys = np.unique([key for e in product_data for key in e.keys()])\n",
    "product_data = [fill_dict(e, keys) for e in product_data]"
   ]
  },
  {
   "cell_type": "code",
   "execution_count": 24,
   "id": "287e4025",
   "metadata": {},
   "outputs": [
    {
     "data": {
      "text/plain": [
       "<sqlite3.Cursor at 0x211499f2f80>"
      ]
     },
     "execution_count": 24,
     "metadata": {},
     "output_type": "execute_result"
    }
   ],
   "source": [
    "sql = \"\"\"\n",
    "    CREATE TABLE DataTable4 (\n",
    "        name TEXT, \n",
    "        price FLOAT, \n",
    "        quantity INTEGER,\n",
    "        category TEXT,\n",
    "        fromCity TEXT, \n",
    "        isAvailable BOOLEAN,\n",
    "        views INTEGER,\n",
    "        updates INTEGER \n",
    "        )\"\"\"\n",
    "\n",
    "cur.execute(sql)"
   ]
  },
  {
   "cell_type": "code",
   "execution_count": 25,
   "id": "cb3d897f",
   "metadata": {},
   "outputs": [],
   "source": [
    "for item in product_data:\n",
    "    cur.execute(\"\"\"INSERT INTO DataTable4 VALUES (\n",
    "        :name, \n",
    "        :price, \n",
    "        :quantity,\n",
    "        :category,\n",
    "        :fromCity, \n",
    "        :isAvailable,\n",
    "        :views,\n",
    "        :updates)\"\"\", list(item.values()) + [0])\n",
    "conn.commit()"
   ]
  },
  {
   "cell_type": "code",
   "execution_count": 26,
   "id": "6ecd2fc2",
   "metadata": {},
   "outputs": [
    {
     "data": {
      "text/plain": [
       "array(['available', 'price_abs', 'price_percent', 'quantity_add',\n",
       "       'quantity_sub', 'remove'], dtype='<U13')"
      ]
     },
     "execution_count": 26,
     "metadata": {},
     "output_type": "execute_result"
    }
   ],
   "source": [
    "np.unique([e['method'] for e in update_data])"
   ]
  },
  {
   "cell_type": "code",
   "execution_count": 27,
   "id": "814588ef",
   "metadata": {},
   "outputs": [],
   "source": [
    "def update_available(conn, col, param):\n",
    "    cur = conn.cursor()\n",
    "    res = cur.execute(f\"UPDATE DataTable4 SET isAvailable = {param} WHERE (name = \\\"{col}\\\")\")\n",
    "    cur.execute(f\"UPDATE DataTable4 SET updates = updates + 1 WHERE name = \\\"{col}\\\"\")\n",
    "    conn.commit()\n",
    "\n",
    "\n",
    "\n",
    "def update_price_abs(conn, col, param):\n",
    "    cur = conn.cursor()\n",
    "    if param[0] != '-':\n",
    "        param = '+' + param\n",
    "    res = cur.execute(f\"UPDATE DataTable4 SET price = (price {param}) WHERE (name = \\\"{col}\\\") AND ((price {param}) > 0)\")\n",
    "    if res.rowcount > 0:\n",
    "        cur.execute(f\"UPDATE DataTable4 SET updates = updates + 1 WHERE name = \\\"{col}\\\"\")\n",
    "        conn.commit()\n",
    "\n",
    "    \n",
    "def update_price_percent(conn, col, param):\n",
    "    cur = conn.cursor()\n",
    "    res = cur.execute(f\"UPDATE DataTable4 SET price = ROUND((price * (1 + {param})), 2) WHERE (name = \\\"{col}\\\") AND ((1 + {param}) > 0)\")\n",
    "    if res.rowcount > 0:\n",
    "        cur.execute(f\"UPDATE DataTable4 SET updates = updates + 1 WHERE name = \\\"{col}\\\"\")\n",
    "        conn.commit()\n",
    "\n",
    "    \n",
    "def update_quantity(conn, col, param):\n",
    "    cur = conn.cursor()\n",
    "    if param[0] != '-':\n",
    "        param = '+' + param\n",
    "    res = cur.execute(f\"UPDATE DataTable4 SET quantity = (quantity {param}) WHERE (name = \\\"{col}\\\") AND ((quantity {param}) > 0)\")\n",
    "    if res.rowcount > 0:\n",
    "        cur.execute(f\"UPDATE DataTable4 SET updates = updates + 1 WHERE name = \\\"{col}\\\"\")\n",
    "        conn.commit()\n",
    "    \n",
    "    \n",
    "def delete_by_col(conn, col):\n",
    "    cur = conn.cursor()\n",
    "    cur.execute(f\"DELETE FROM DataTable4 WHERE name = \\\"{col}\\\"\")\n",
    "    conn.commit()"
   ]
  },
  {
   "cell_type": "code",
   "execution_count": 28,
   "id": "5e4b9e91",
   "metadata": {},
   "outputs": [],
   "source": [
    "for update in update_data:\n",
    "    name, method, param = update.values()\n",
    "    param = str(param)\n",
    "    if method == 'available':\n",
    "        update_available(conn, name, param)\n",
    "    elif method == 'price_abs':\n",
    "        update_price_abs(conn, name, param)\n",
    "    elif method == 'price_percent':\n",
    "        update_price_percent(conn, name, param)\n",
    "    elif method == 'quantity_add':\n",
    "        update_quantity(conn, name, param)\n",
    "    elif method == 'quantity_sub':\n",
    "        update_quantity(conn, name, param)\n",
    "    elif method == 'remove':\n",
    "        delete_by_col(conn, name)"
   ]
  },
  {
   "cell_type": "code",
   "execution_count": 29,
   "id": "7c75a189",
   "metadata": {},
   "outputs": [],
   "source": [
    "def get_from_head(conn, sort_col, n):\n",
    "    cur = conn.cursor()\n",
    "    samples = cur.execute(f\"\"\"SELECT \n",
    "        name, \n",
    "        price, \n",
    "        quantity,\n",
    "        category,\n",
    "        fromCity, \n",
    "        isAvailable,\n",
    "        views,\n",
    "        updates\n",
    "        FROM DataTable4 ORDER BY {sort_col} DESC LIMIT {str(n)}\"\"\")\n",
    "    return samples\n",
    "\n",
    "\n",
    "cur = get_from_head(conn, 'updates', 10)\n",
    "\n",
    "keys = ['name', 'price', 'quantity', 'category', 'fromCity', 'isAvailable', 'views', 'updates']\n",
    "result = []\n",
    "for row in cur.fetchall():\n",
    "    result.append({keys[i]: str(e) for i, e in enumerate(row)})\n",
    "    \n",
    "with open(\"4_top.json\", \"w\", encoding=\"utf-8\") as outfile: \n",
    "    json.dump(result, outfile, ensure_ascii=True)"
   ]
  },
  {
   "cell_type": "code",
   "execution_count": 30,
   "id": "31e2cfcc",
   "metadata": {},
   "outputs": [],
   "source": [
    "def get_stats_for_categories(conn, col):\n",
    "    cur = conn.cursor()\n",
    "    stats = cur.execute(f\"\"\"SELECT \n",
    "        category, SUM({col}), MIN({col}), MAX({col}), AVG({col}), COUNT(*)  \n",
    "        FROM DataTable4 GROUP BY category\"\"\")\n",
    "    return stats.fetchall()\n",
    "\n",
    "stats = get_stats_for_categories(conn, 'price')\n",
    "keys = ['category', 'sum', 'min', 'max', 'avg', 'count']\n",
    "\n",
    "with open(\"4_stats_for_categories.json\", \"w\", encoding=\"utf-8\") as outfile: \n",
    "    json.dump([{keys[i]: str(e) for i, e in enumerate(category)} for category in stats], outfile, ensure_ascii=True)"
   ]
  },
  {
   "cell_type": "code",
   "execution_count": 31,
   "id": "47a7779a",
   "metadata": {},
   "outputs": [],
   "source": [
    "def get_stats(conn, col):\n",
    "    cur = conn.cursor()\n",
    "    stats = cur.execute(f\"\"\"SELECT \n",
    "        SUM({col}), MIN({col}), MAX({col}), AVG({col})  \n",
    "        FROM DataTable4\"\"\")\n",
    "    return stats.fetchone()\n",
    "\n",
    "stats = get_stats(conn, 'price')\n",
    "keys = ['sum', 'min', 'max', 'avg']\n",
    "\n",
    "with open(\"4_stats_.json\", \"w\", encoding=\"utf-8\") as outfile: \n",
    "    json.dump({keys[i]: str(e) for i, e in enumerate(stats)}, outfile, ensure_ascii=True)"
   ]
  },
  {
   "cell_type": "code",
   "execution_count": 32,
   "id": "ebb24abd",
   "metadata": {},
   "outputs": [],
   "source": [
    "def get_freq(conn, col):\n",
    "    cur = conn.cursor()\n",
    "    freq = cur.execute(f\"\"\"SELECT \n",
    "        {col}, COUNT(*)\n",
    "        FROM DataTable4 GROUP BY {col}\"\"\")\n",
    "    return freq\n",
    "\n",
    "freq = get_freq(conn, 'updates')\n",
    "freq = {e[0]: str(e[1]) for e in freq}\n",
    "\n",
    "with open(\"4_freq.json\", \"w\", encoding=\"utf-8\") as outfile: \n",
    "    json.dump(freq, outfile, ensure_ascii=True)"
   ]
  },
  {
   "cell_type": "code",
   "execution_count": null,
   "id": "0ca742b6",
   "metadata": {},
   "outputs": [],
   "source": []
  }
 ],
 "metadata": {
  "kernelspec": {
   "display_name": "Python 3 (ipykernel)",
   "language": "python",
   "name": "python3"
  },
  "language_info": {
   "codemirror_mode": {
    "name": "ipython",
    "version": 3
   },
   "file_extension": ".py",
   "mimetype": "text/x-python",
   "name": "python",
   "nbconvert_exporter": "python",
   "pygments_lexer": "ipython3",
   "version": "3.9.12"
  }
 },
 "nbformat": 4,
 "nbformat_minor": 5
}
