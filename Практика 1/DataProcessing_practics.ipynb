{
  "nbformat": 4,
  "nbformat_minor": 0,
  "metadata": {
    "colab": {
      "provenance": []
    },
    "kernelspec": {
      "name": "python3",
      "display_name": "Python 3"
    },
    "language_info": {
      "name": "python"
    }
  },
  "cells": [
    {
      "cell_type": "markdown",
      "source": [
        "# Вариант 2"
      ],
      "metadata": {
        "id": "AYWnL6yFCPGP"
      }
    },
    {
      "cell_type": "code",
      "execution_count": 1,
      "metadata": {
        "id": "NwgMCkroBdhZ"
      },
      "outputs": [],
      "source": [
        "!unzip -qq задания.zip -d задания"
      ]
    },
    {
      "cell_type": "markdown",
      "source": [
        "# Задание 1"
      ],
      "metadata": {
        "id": "EFIOSMs5Ccnk"
      }
    },
    {
      "cell_type": "code",
      "source": [
        "with open('./задания/1/text_1_var_2') as f:\n",
        "  lines = f.read()\n",
        "\n",
        "words = lines.replace('\\n', ' ').replace('.', ' ').replace(',', ' ').replace('!', ' ').replace('?', ' ').split()\n",
        "\n",
        "dictionary = dict()\n",
        "for word in words:\n",
        "  if word in dictionary:\n",
        "    dictionary[word] += 1\n",
        "  else:\n",
        "    dictionary[word] = 1\n",
        "\n",
        "dictionary = list(dictionary.items())\n",
        "dictionary = dict(sorted(dictionary, key = lambda x: x[1], reverse=True))\n",
        "\n",
        "with open('./1.txt', 'w') as f:\n",
        "  for k, v in dictionary.items():\n",
        "    f.write(f\"{k}:{v}\\n\")"
      ],
      "metadata": {
        "id": "gWUWhBtQB-pD"
      },
      "execution_count": 2,
      "outputs": []
    },
    {
      "cell_type": "markdown",
      "source": [
        "# Задание 2"
      ],
      "metadata": {
        "id": "zftIZMamJDkB"
      }
    },
    {
      "cell_type": "code",
      "source": [
        "with open('./задания/2/text_2_var_2') as f:\n",
        "  lines = f.readlines()\n",
        "\n",
        "with open('./2.txt', 'w') as f:\n",
        "  for line in lines:\n",
        "    line = line.split(',')\n",
        "    line = [int(e) for e in line]\n",
        "    f.write(str(sum(line)) + '\\n')"
      ],
      "metadata": {
        "id": "-r5GWIMBEVgw"
      },
      "execution_count": 3,
      "outputs": []
    },
    {
      "cell_type": "markdown",
      "source": [
        "# Задание 3"
      ],
      "metadata": {
        "id": "f5JIQUdBNbMd"
      }
    },
    {
      "cell_type": "code",
      "source": [
        "with open('./задания/3/text_3_var_2') as f:\n",
        "  lines = f.readlines()\n",
        "\n",
        "threshold = pow(50+2, 2)\n",
        "\n",
        "with open('./3.txt', 'w') as f:\n",
        "  for line in lines:\n",
        "    nums = line.split(',')\n",
        "    na_ids = [i for i, v in enumerate(nums) if v == \"NA\"]\n",
        "\n",
        "    for i in na_ids:\n",
        "      nums[i] = str(int(nums[i-1]) + int(nums[i+1]) / 2)\n",
        "    nums = [e for e in nums if float(e) > threshold]\n",
        "\n",
        "    f.write(','.join(nums))"
      ],
      "metadata": {
        "id": "uP8-M4mwJJQD"
      },
      "execution_count": 4,
      "outputs": []
    },
    {
      "cell_type": "markdown",
      "source": [
        "# Задание 4"
      ],
      "metadata": {
        "id": "kfFUMkK4FP2y"
      }
    },
    {
      "cell_type": "code",
      "source": [
        "with open('./задания/4/text_4_var_2') as f:\n",
        "  lines = [e.strip().split(',') for e in f.readlines()]\n",
        "\n",
        "lines = [e[:-1] for e in lines]\n",
        "\n",
        "avg_salary = sum([int(e[4][:-1]) for e in lines]) / len(lines)\n",
        "lines = list(filter(lambda x: int(x[4][:-1]) >= avg_salary, lines))\n",
        "\n",
        "age_threshold = 25 + 2 % 10\n",
        "lines = list(filter(lambda x: int(x[3]) > age_threshold, lines))\n",
        "\n",
        "lines = sorted(lines, key=lambda x: int(x[0]))\n",
        "\n",
        "lines = [','.join(e) + '\\n' for e in lines]\n",
        "\n",
        "with open('./4.txt', 'w') as f:\n",
        "  f.writelines(lines)"
      ],
      "metadata": {
        "id": "brxfdxlbN7Z0"
      },
      "execution_count": 35,
      "outputs": []
    },
    {
      "cell_type": "markdown",
      "source": [
        "# Задание 5"
      ],
      "metadata": {
        "id": "Qs2eAerzJZ_q"
      }
    },
    {
      "cell_type": "code",
      "source": [
        "with open('./задания/5/text_5_var_2') as f:\n",
        "  lines = [e.strip() for e in f.readlines()]\n",
        "\n",
        "result = []\n",
        "for e in lines:\n",
        "  if '<table>' in e:\n",
        "    continue\n",
        "  elif '<tr>' in e:\n",
        "    result.append([])\n",
        "  elif '<th>' in e or '<td>' in e:\n",
        "    result[-1].append(e[4:-5])\n",
        "\n",
        "result = [','.join(e) + '\\n' for e in result]\n",
        "\n",
        "with open('./5.txt', 'w') as f:\n",
        "  f.writelines(result)"
      ],
      "metadata": {
        "id": "QyQtNKReIsTm"
      },
      "execution_count": 56,
      "outputs": []
    },
    {
      "cell_type": "markdown",
      "source": [
        "# Задание 6"
      ],
      "metadata": {
        "id": "zZHnbTYhNEkB"
      }
    },
    {
      "cell_type": "code",
      "source": [
        "import requests\n",
        "text = requests.get(\"https://datausa.io/api/data?drilldowns=Nation&measures=Population\").text\n",
        "\n",
        "text = text[text.find('\":[')+3:text.find(']')]\n",
        "text = text[1:-1].split('},{')\n",
        "\n",
        "header = [e[:e.find(':')][1:-1] for e in text[0].split(',')]\n",
        "cells = [[e[e.find(':')+1:].replace('\"', '') for e in row.split(',')] for row in text]\n",
        "\n",
        "html = ['<table>\\n']\n",
        "html.append('\\t<tr>\\n')\n",
        "for e in header:\n",
        "  html.append(f'\\t\\t<th>{e}</th>\\n')\n",
        "html.append('\\t</tr>\\n')\n",
        "\n",
        "for row in cells:\n",
        "  html.append('\\t<tr>\\n')\n",
        "  for e in row:\n",
        "    html.append(f'\\t\\t<td>{e}</td>\\n')\n",
        "  html.append('\\t</tr>\\n')\n",
        "\n",
        "html.append('</table>\\n')\n",
        "\n",
        "with open('./6.txt', 'w') as f:\n",
        "  f.writelines(html)"
      ],
      "metadata": {
        "id": "LdUtvf-4NYl7"
      },
      "execution_count": 102,
      "outputs": []
    },
    {
      "cell_type": "code",
      "source": [],
      "metadata": {
        "id": "viYJu2FRSMd7"
      },
      "execution_count": null,
      "outputs": []
    }
  ]
}