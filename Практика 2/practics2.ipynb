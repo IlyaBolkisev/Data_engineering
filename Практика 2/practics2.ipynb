{
 "cells": [
  {
   "cell_type": "markdown",
   "id": "86369ea3",
   "metadata": {},
   "source": [
    "# Задание 1"
   ]
  },
  {
   "cell_type": "code",
   "execution_count": 1,
   "id": "ae28ff23",
   "metadata": {},
   "outputs": [
    {
     "data": {
      "text/plain": [
       "array([[423, 884, 647, ..., 925, 644, 291],\n",
       "       [620, 415, 566, ..., 424, 136, 771],\n",
       "       [904, 788, 790, ..., 781, 481, 343],\n",
       "       ...,\n",
       "       [148, 430, 327, ..., 838, 212, 203],\n",
       "       [393, 637, 456, ..., 218, 764, 852],\n",
       "       [749, 803, 953, ..., 387, 106, 705]])"
      ]
     },
     "execution_count": 1,
     "metadata": {},
     "output_type": "execute_result"
    }
   ],
   "source": [
    "import numpy as np\n",
    "\n",
    "data = np.load('./1/matrix_2.npy')\n",
    "data"
   ]
  },
  {
   "cell_type": "code",
   "execution_count": 2,
   "id": "6117331b",
   "metadata": {},
   "outputs": [],
   "source": [
    "main_diag = np.diag(data)\n",
    "side_diag = np.diag(np.flip(data, axis=1))\n",
    "res = {\n",
    "    'sum': str(np.sum(data)),\n",
    "    'avr': str(np.mean(data)), \n",
    "    'sumMD': str(np.sum(main_diag)),  \n",
    "    'avrMD': str(np.mean(main_diag)), \n",
    "    'sumSD': str(np.sum(side_diag)),  \n",
    "    'avrSD': str(np.mean(side_diag)), \n",
    "    'max': str(np.max(data)), \n",
    "    'min': str(np.min(data)) \n",
    "}"
   ]
  },
  {
   "cell_type": "code",
   "execution_count": 3,
   "id": "71c4f56d",
   "metadata": {},
   "outputs": [],
   "source": [
    "import json\n",
    "with open(\"1_stats.json\", \"w\") as outfile: \n",
    "    json.dump(res, outfile)"
   ]
  },
  {
   "cell_type": "code",
   "execution_count": 4,
   "id": "43cf641e",
   "metadata": {},
   "outputs": [],
   "source": [
    "data = (data - float(res['min'])) / (float(res['max']) - float(res['min']))\n",
    "np.save(\"1.npy\", data)"
   ]
  },
  {
   "cell_type": "markdown",
   "id": "02e1dead",
   "metadata": {},
   "source": [
    "# Задание 2"
   ]
  },
  {
   "cell_type": "code",
   "execution_count": 5,
   "id": "52137add",
   "metadata": {},
   "outputs": [
    {
     "data": {
      "text/plain": [
       "array([[ 719, 1019,  307, ..., 1020, 1438,  202],\n",
       "       [ 658,  574,  288, ...,  695,  366, 1030],\n",
       "       [1294, 1016,  664, ...,  846, 1203,  484],\n",
       "       ...,\n",
       "       [ 436,  279,  389, ...,  864,  106, 1015],\n",
       "       [ 780,  352, 1297, ...,  910, 1135,  920],\n",
       "       [1382,  740,  365, ..., 1188, 1454,  919]])"
      ]
     },
     "execution_count": 5,
     "metadata": {},
     "output_type": "execute_result"
    }
   ],
   "source": [
    "data = np.load('./2/matrix_2_2.npy')\n",
    "data"
   ]
  },
  {
   "cell_type": "code",
   "execution_count": 6,
   "id": "4977effa",
   "metadata": {},
   "outputs": [
    {
     "data": {
      "text/plain": [
       "array([[   0,    0,  719],\n",
       "       [   1,    0, 1019],\n",
       "       [   3,    0,  973],\n",
       "       ...,\n",
       "       [ 385,  387, 1188],\n",
       "       [ 386,  387, 1454],\n",
       "       [ 387,  387,  919]])"
      ]
     },
     "execution_count": 6,
     "metadata": {},
     "output_type": "execute_result"
    }
   ],
   "source": [
    "xyz = np.array([(i % data.shape[1], i // data.shape[1], data[i//data.shape[1], i%data.shape[1]]) \n",
    "                for i in range(data.shape[0] * data.shape[1]) if data[i//data.shape[1], i%data.shape[1]] > 500+2])\n",
    "xyz"
   ]
  },
  {
   "cell_type": "code",
   "execution_count": 7,
   "id": "a35a90d6",
   "metadata": {},
   "outputs": [],
   "source": [
    "np.savez(\"2.npz\", data)\n",
    "np.savez_compressed(\"2_compressed.npz\", data)"
   ]
  },
  {
   "cell_type": "code",
   "execution_count": 8,
   "id": "dcec25bd",
   "metadata": {},
   "outputs": [
    {
     "name": "stdout",
     "output_type": "stream",
     "text": [
      "Разница: 319816 байт, 53%\n"
     ]
    }
   ],
   "source": [
    "print(f'Разница: {602440 - 282624} байт, {int(round((602440 - 282624) / 602440, 2) * 100)}%')"
   ]
  },
  {
   "cell_type": "markdown",
   "id": "4a016fa1",
   "metadata": {},
   "source": [
    "# Задание 3"
   ]
  },
  {
   "cell_type": "code",
   "execution_count": 9,
   "id": "0f9a5395",
   "metadata": {},
   "outputs": [],
   "source": [
    "import json\n",
    "\n",
    "with open('./3/products_2.json', 'r') as f:\n",
    "    data = json.load(f)"
   ]
  },
  {
   "cell_type": "code",
   "execution_count": 10,
   "id": "41cfb004",
   "metadata": {},
   "outputs": [],
   "source": [
    "products = {}\n",
    "for e in data:\n",
    "    if e['name'] in products:\n",
    "        products[e['name']].append(e['price'])\n",
    "    else:\n",
    "        products[e['name']] = [e['price']]\n"
   ]
  },
  {
   "cell_type": "code",
   "execution_count": 11,
   "id": "229bfe6d",
   "metadata": {},
   "outputs": [
    {
     "data": {
      "text/plain": [
       "{'Peach': {'avg': '54.7563870967742', 'max': '99.31', 'min': '5.07'},\n",
       " 'Apple': {'avg': '54.32467479674796', 'max': '99.78', 'min': '5.07'},\n",
       " 'Banana': {'avg': '50.80389521640091', 'max': '99.69', 'min': '5.28'},\n",
       " 'Mango': {'avg': '52.85378021978022', 'max': '99.62', 'min': '5.14'},\n",
       " 'Guava': {'avg': '52.20596673596673', 'max': '99.82', 'min': '5.34'},\n",
       " 'Kiwifruit': {'avg': '52.93342857142857', 'max': '99.82', 'min': '5.52'},\n",
       " 'Raspberry': {'avg': '51.88988839285714', 'max': '99.89', 'min': '5.09'},\n",
       " 'Strawberry': {'avg': '54.407120535714284', 'max': '99.83', 'min': '5.41'},\n",
       " 'Grapes': {'avg': '51.60929046563193', 'max': '100.0', 'min': '5.0'},\n",
       " 'Cranberry': {'avg': '54.38699774266366', 'max': '99.95', 'min': '5.79'},\n",
       " 'Pineapple': {'avg': '51.56455399061033', 'max': '100.0', 'min': '5.0'},\n",
       " 'Cherry': {'avg': '51.47675', 'max': '99.72', 'min': '5.06'},\n",
       " 'Apricot': {'avg': '51.593963963963965', 'max': '99.82', 'min': '5.08'},\n",
       " 'Orange': {'avg': '49.137192224622034', 'max': '99.91', 'min': '5.2'},\n",
       " 'Melon': {'avg': '52.899745762711866', 'max': '99.77', 'min': '5.02'},\n",
       " 'Blueberry': {'avg': '52.84162946428571', 'max': '99.94', 'min': '5.02'},\n",
       " 'Papaya': {'avg': '52.33203501094091', 'max': '99.98', 'min': '6.55'},\n",
       " 'Plum': {'avg': '53.21952595936794', 'max': '99.94', 'min': '5.09'},\n",
       " 'Boysenberry': {'avg': '53.38677489177489', 'max': '99.91', 'min': '5.23'},\n",
       " 'Blackberry': {'avg': '54.809917012448125', 'max': '99.81', 'min': '5.47'}}"
      ]
     },
     "execution_count": 11,
     "metadata": {},
     "output_type": "execute_result"
    }
   ],
   "source": [
    "statistics = {}\n",
    "for i, product in enumerate(products):\n",
    "    statistics[product] = {\n",
    "        'avg': str(np.mean(products[product])), \n",
    "        'max': str(np.max(products[product])),\n",
    "        'min': str(np.min(products[product]))\n",
    "    }\n",
    "statistics"
   ]
  },
  {
   "cell_type": "code",
   "execution_count": 12,
   "id": "cbdecbeb",
   "metadata": {},
   "outputs": [],
   "source": [
    "import msgpack\n",
    "\n",
    "with open(\"3_stats.json\", \"w\") as outfile: \n",
    "    json.dump(res, outfile)\n",
    "\n",
    "with open(\"3_stats.msgpack\", \"wb\") as outfile:\n",
    "    packed = msgpack.packb(statistics)\n",
    "    outfile.write(packed)"
   ]
  },
  {
   "cell_type": "code",
   "execution_count": 13,
   "id": "c3ea1975",
   "metadata": {},
   "outputs": [
    {
     "name": "stdout",
     "output_type": "stream",
     "text": [
      "Разница: 847 байт, 85%, .json весит сильно меньше\n"
     ]
    }
   ],
   "source": [
    "print(f'Разница: {997 - 150} байт, {int(round((997 - 150) / 997, 2) * 100)}%, .json весит сильно меньше')"
   ]
  },
  {
   "cell_type": "markdown",
   "id": "73cc308e",
   "metadata": {},
   "source": [
    "# Задание 4"
   ]
  },
  {
   "cell_type": "code",
   "execution_count": 14,
   "id": "2b7dd0ad",
   "metadata": {},
   "outputs": [],
   "source": [
    "import pickle\n",
    "\n",
    "with open(\"4/products_2.pkl\", \"rb\") as f:\n",
    "    products = pickle.load(f)\n",
    "\n",
    "with open(\"4/price_info_2.json\") as f:\n",
    "    price_info = json.load(f)"
   ]
  },
  {
   "cell_type": "code",
   "execution_count": 15,
   "id": "01850e11",
   "metadata": {},
   "outputs": [],
   "source": [
    "for i in range(len(products)):\n",
    "    name, price = products[i]['name'], products[i]['price']\n",
    "    _, method, param = list(filter(lambda x: x['name'] == name, price_info))[0].values()\n",
    "    if method == 'sum':\n",
    "        products[i]['price'] = price + param\n",
    "    elif method == 'sub':\n",
    "        products[i]['price'] = price - param\n",
    "    elif method == 'percent+':        \n",
    "        products[i]['price'] = price * (1 + param)\n",
    "    elif method == 'percent-':        \n",
    "        products[i]['price'] = price * (1 - param)\n",
    "\n",
    "with open('4.pickle', 'wb') as f:\n",
    "    pickle.dump(products, f)"
   ]
  },
  {
   "cell_type": "markdown",
   "id": "f9daa596",
   "metadata": {},
   "source": [
    "# Задание 5"
   ]
  },
  {
   "cell_type": "code",
   "execution_count": 16,
   "id": "0734acb7",
   "metadata": {},
   "outputs": [
    {
     "data": {
      "text/html": [
       "<div>\n",
       "<style scoped>\n",
       "    .dataframe tbody tr th:only-of-type {\n",
       "        vertical-align: middle;\n",
       "    }\n",
       "\n",
       "    .dataframe tbody tr th {\n",
       "        vertical-align: top;\n",
       "    }\n",
       "\n",
       "    .dataframe thead th {\n",
       "        text-align: right;\n",
       "    }\n",
       "</style>\n",
       "<table border=\"1\" class=\"dataframe\">\n",
       "  <thead>\n",
       "    <tr style=\"text-align: right;\">\n",
       "      <th></th>\n",
       "      <th>DR_NO</th>\n",
       "      <th>Date Rptd</th>\n",
       "      <th>DATE OCC</th>\n",
       "      <th>TIME OCC</th>\n",
       "      <th>AREA</th>\n",
       "      <th>AREA NAME</th>\n",
       "      <th>Rpt Dist No</th>\n",
       "      <th>Part 1-2</th>\n",
       "      <th>Crm Cd</th>\n",
       "      <th>Crm Cd Desc</th>\n",
       "      <th>...</th>\n",
       "      <th>Status Desc</th>\n",
       "      <th>Crm Cd 1</th>\n",
       "      <th>Crm Cd 2</th>\n",
       "      <th>Crm Cd 3</th>\n",
       "      <th>Crm Cd 4</th>\n",
       "      <th>LOCATION</th>\n",
       "      <th>Cross Street</th>\n",
       "      <th>LAT</th>\n",
       "      <th>LON</th>\n",
       "      <th>AREA</th>\n",
       "    </tr>\n",
       "  </thead>\n",
       "  <tbody>\n",
       "    <tr>\n",
       "      <th>0</th>\n",
       "      <td>1307355</td>\n",
       "      <td>02/20/2010 12:00:00 AM</td>\n",
       "      <td>02/20/2010 12:00:00 AM</td>\n",
       "      <td>1350</td>\n",
       "      <td>13.0</td>\n",
       "      <td>Newton</td>\n",
       "      <td>1385</td>\n",
       "      <td>2</td>\n",
       "      <td>900</td>\n",
       "      <td>VIOLATION OF COURT ORDER</td>\n",
       "      <td>...</td>\n",
       "      <td>Adult Arrest</td>\n",
       "      <td>900.0</td>\n",
       "      <td>NaN</td>\n",
       "      <td>NaN</td>\n",
       "      <td>NaN</td>\n",
       "      <td>300 E  GAGE                         AV</td>\n",
       "      <td>NaN</td>\n",
       "      <td>33.9825</td>\n",
       "      <td>-118.2695</td>\n",
       "      <td>NaN</td>\n",
       "    </tr>\n",
       "    <tr>\n",
       "      <th>1</th>\n",
       "      <td>11401303</td>\n",
       "      <td>09/13/2010 12:00:00 AM</td>\n",
       "      <td>09/12/2010 12:00:00 AM</td>\n",
       "      <td>45</td>\n",
       "      <td>14.0</td>\n",
       "      <td>Pacific</td>\n",
       "      <td>1485</td>\n",
       "      <td>2</td>\n",
       "      <td>740</td>\n",
       "      <td>VANDALISM - FELONY ($400 &amp; OVER, ALL CHURCH VA...</td>\n",
       "      <td>...</td>\n",
       "      <td>Invest Cont</td>\n",
       "      <td>740.0</td>\n",
       "      <td>NaN</td>\n",
       "      <td>NaN</td>\n",
       "      <td>NaN</td>\n",
       "      <td>SEPULVEDA                    BL</td>\n",
       "      <td>MANCHESTER                   AV</td>\n",
       "      <td>33.9599</td>\n",
       "      <td>-118.3962</td>\n",
       "      <td>NaN</td>\n",
       "    </tr>\n",
       "    <tr>\n",
       "      <th>2</th>\n",
       "      <td>70309629</td>\n",
       "      <td>08/09/2010 12:00:00 AM</td>\n",
       "      <td>08/09/2010 12:00:00 AM</td>\n",
       "      <td>1515</td>\n",
       "      <td>13.0</td>\n",
       "      <td>Newton</td>\n",
       "      <td>1324</td>\n",
       "      <td>2</td>\n",
       "      <td>946</td>\n",
       "      <td>OTHER MISCELLANEOUS CRIME</td>\n",
       "      <td>...</td>\n",
       "      <td>Invest Cont</td>\n",
       "      <td>946.0</td>\n",
       "      <td>NaN</td>\n",
       "      <td>NaN</td>\n",
       "      <td>NaN</td>\n",
       "      <td>1300 E  21ST                         ST</td>\n",
       "      <td>NaN</td>\n",
       "      <td>34.0224</td>\n",
       "      <td>-118.2524</td>\n",
       "      <td>NaN</td>\n",
       "    </tr>\n",
       "    <tr>\n",
       "      <th>3</th>\n",
       "      <td>90631215</td>\n",
       "      <td>01/05/2010 12:00:00 AM</td>\n",
       "      <td>01/05/2010 12:00:00 AM</td>\n",
       "      <td>150</td>\n",
       "      <td>6.0</td>\n",
       "      <td>Hollywood</td>\n",
       "      <td>646</td>\n",
       "      <td>2</td>\n",
       "      <td>900</td>\n",
       "      <td>VIOLATION OF COURT ORDER</td>\n",
       "      <td>...</td>\n",
       "      <td>Invest Cont</td>\n",
       "      <td>900.0</td>\n",
       "      <td>998.0</td>\n",
       "      <td>NaN</td>\n",
       "      <td>NaN</td>\n",
       "      <td>CAHUENGA                     BL</td>\n",
       "      <td>HOLLYWOOD                    BL</td>\n",
       "      <td>34.1016</td>\n",
       "      <td>-118.3295</td>\n",
       "      <td>NaN</td>\n",
       "    </tr>\n",
       "    <tr>\n",
       "      <th>4</th>\n",
       "      <td>100100501</td>\n",
       "      <td>01/03/2010 12:00:00 AM</td>\n",
       "      <td>01/02/2010 12:00:00 AM</td>\n",
       "      <td>2100</td>\n",
       "      <td>1.0</td>\n",
       "      <td>Central</td>\n",
       "      <td>176</td>\n",
       "      <td>1</td>\n",
       "      <td>122</td>\n",
       "      <td>RAPE, ATTEMPTED</td>\n",
       "      <td>...</td>\n",
       "      <td>Invest Cont</td>\n",
       "      <td>122.0</td>\n",
       "      <td>NaN</td>\n",
       "      <td>NaN</td>\n",
       "      <td>NaN</td>\n",
       "      <td>8TH                          ST</td>\n",
       "      <td>SAN PEDRO                    ST</td>\n",
       "      <td>34.0387</td>\n",
       "      <td>-118.2488</td>\n",
       "      <td>NaN</td>\n",
       "    </tr>\n",
       "  </tbody>\n",
       "</table>\n",
       "<p>5 rows × 29 columns</p>\n",
       "</div>"
      ],
      "text/plain": [
       "       DR_NO               Date Rptd                DATE OCC  TIME OCC  AREA   \\\n",
       "0    1307355  02/20/2010 12:00:00 AM  02/20/2010 12:00:00 AM      1350   13.0   \n",
       "1   11401303  09/13/2010 12:00:00 AM  09/12/2010 12:00:00 AM        45   14.0   \n",
       "2   70309629  08/09/2010 12:00:00 AM  08/09/2010 12:00:00 AM      1515   13.0   \n",
       "3   90631215  01/05/2010 12:00:00 AM  01/05/2010 12:00:00 AM       150    6.0   \n",
       "4  100100501  01/03/2010 12:00:00 AM  01/02/2010 12:00:00 AM      2100    1.0   \n",
       "\n",
       "   AREA NAME  Rpt Dist No  Part 1-2  Crm Cd  \\\n",
       "0     Newton         1385         2     900   \n",
       "1    Pacific         1485         2     740   \n",
       "2     Newton         1324         2     946   \n",
       "3  Hollywood          646         2     900   \n",
       "4    Central          176         1     122   \n",
       "\n",
       "                                         Crm Cd Desc  ...   Status Desc  \\\n",
       "0                           VIOLATION OF COURT ORDER  ...  Adult Arrest   \n",
       "1  VANDALISM - FELONY ($400 & OVER, ALL CHURCH VA...  ...   Invest Cont   \n",
       "2                          OTHER MISCELLANEOUS CRIME  ...   Invest Cont   \n",
       "3                           VIOLATION OF COURT ORDER  ...   Invest Cont   \n",
       "4                                    RAPE, ATTEMPTED  ...   Invest Cont   \n",
       "\n",
       "   Crm Cd 1 Crm Cd 2 Crm Cd 3  Crm Cd 4  \\\n",
       "0     900.0      NaN      NaN       NaN   \n",
       "1     740.0      NaN      NaN       NaN   \n",
       "2     946.0      NaN      NaN       NaN   \n",
       "3     900.0    998.0      NaN       NaN   \n",
       "4     122.0      NaN      NaN       NaN   \n",
       "\n",
       "                                  LOCATION                     Cross Street  \\\n",
       "0   300 E  GAGE                         AV                              NaN   \n",
       "1          SEPULVEDA                    BL  MANCHESTER                   AV   \n",
       "2  1300 E  21ST                         ST                              NaN   \n",
       "3          CAHUENGA                     BL  HOLLYWOOD                    BL   \n",
       "4          8TH                          ST  SAN PEDRO                    ST   \n",
       "\n",
       "       LAT       LON AREA  \n",
       "0  33.9825 -118.2695  NaN  \n",
       "1  33.9599 -118.3962  NaN  \n",
       "2  34.0224 -118.2524  NaN  \n",
       "3  34.1016 -118.3295  NaN  \n",
       "4  34.0387 -118.2488  NaN  \n",
       "\n",
       "[5 rows x 29 columns]"
      ]
     },
     "execution_count": 16,
     "metadata": {},
     "output_type": "execute_result"
    }
   ],
   "source": [
    "import pandas as pd\n",
    "\n",
    "# https://www.kaggle.com/datasets/manjitbaishya001/la-crime-data-2010-to-2023\n",
    "df = pd.read_csv('la_crime_2010_to_2023.csv')\n",
    "df.head()"
   ]
  },
  {
   "cell_type": "code",
   "execution_count": 17,
   "id": "312beeef",
   "metadata": {},
   "outputs": [
    {
     "data": {
      "text/html": [
       "<div>\n",
       "<style scoped>\n",
       "    .dataframe tbody tr th:only-of-type {\n",
       "        vertical-align: middle;\n",
       "    }\n",
       "\n",
       "    .dataframe tbody tr th {\n",
       "        vertical-align: top;\n",
       "    }\n",
       "\n",
       "    .dataframe thead th {\n",
       "        text-align: right;\n",
       "    }\n",
       "</style>\n",
       "<table border=\"1\" class=\"dataframe\">\n",
       "  <thead>\n",
       "    <tr style=\"text-align: right;\">\n",
       "      <th></th>\n",
       "      <th>AREA</th>\n",
       "      <th>AREA NAME</th>\n",
       "      <th>Part 1-2</th>\n",
       "      <th>Crm Cd</th>\n",
       "      <th>Crm Cd Desc</th>\n",
       "      <th>Status Desc</th>\n",
       "      <th>LAT</th>\n",
       "      <th>LON</th>\n",
       "    </tr>\n",
       "  </thead>\n",
       "  <tbody>\n",
       "    <tr>\n",
       "      <th>2135775</th>\n",
       "      <td>3.0</td>\n",
       "      <td>Southwest</td>\n",
       "      <td>2</td>\n",
       "      <td>624</td>\n",
       "      <td>BATTERY - SIMPLE ASSAULT</td>\n",
       "      <td>Adult Other</td>\n",
       "      <td>34.0141</td>\n",
       "      <td>-118.2978</td>\n",
       "    </tr>\n",
       "    <tr>\n",
       "      <th>2135776</th>\n",
       "      <td>1.0</td>\n",
       "      <td>Central</td>\n",
       "      <td>2</td>\n",
       "      <td>624</td>\n",
       "      <td>BATTERY - SIMPLE ASSAULT</td>\n",
       "      <td>Invest Cont</td>\n",
       "      <td>34.0459</td>\n",
       "      <td>-118.2545</td>\n",
       "    </tr>\n",
       "    <tr>\n",
       "      <th>2135777</th>\n",
       "      <td>1.0</td>\n",
       "      <td>Central</td>\n",
       "      <td>2</td>\n",
       "      <td>845</td>\n",
       "      <td>SEX OFFENDER REGISTRANT OUT OF COMPLIANCE</td>\n",
       "      <td>Adult Arrest</td>\n",
       "      <td>34.0448</td>\n",
       "      <td>-118.2474</td>\n",
       "    </tr>\n",
       "    <tr>\n",
       "      <th>2135778</th>\n",
       "      <td>15.0</td>\n",
       "      <td>N Hollywood</td>\n",
       "      <td>2</td>\n",
       "      <td>745</td>\n",
       "      <td>VANDALISM - MISDEAMEANOR ($399 OR UNDER)</td>\n",
       "      <td>Invest Cont</td>\n",
       "      <td>34.1685</td>\n",
       "      <td>-118.4019</td>\n",
       "    </tr>\n",
       "    <tr>\n",
       "      <th>2135779</th>\n",
       "      <td>19.0</td>\n",
       "      <td>Mission</td>\n",
       "      <td>2</td>\n",
       "      <td>740</td>\n",
       "      <td>VANDALISM - FELONY ($400 &amp; OVER, ALL CHURCH VA...</td>\n",
       "      <td>Invest Cont</td>\n",
       "      <td>34.2198</td>\n",
       "      <td>-118.4468</td>\n",
       "    </tr>\n",
       "    <tr>\n",
       "      <th>...</th>\n",
       "      <td>...</td>\n",
       "      <td>...</td>\n",
       "      <td>...</td>\n",
       "      <td>...</td>\n",
       "      <td>...</td>\n",
       "      <td>...</td>\n",
       "      <td>...</td>\n",
       "      <td>...</td>\n",
       "    </tr>\n",
       "    <tr>\n",
       "      <th>2993428</th>\n",
       "      <td>16.0</td>\n",
       "      <td>Foothill</td>\n",
       "      <td>1</td>\n",
       "      <td>230</td>\n",
       "      <td>ASSAULT WITH DEADLY WEAPON, AGGRAVATED ASSAULT</td>\n",
       "      <td>Invest Cont</td>\n",
       "      <td>34.2790</td>\n",
       "      <td>-118.4116</td>\n",
       "    </tr>\n",
       "    <tr>\n",
       "      <th>2993429</th>\n",
       "      <td>12.0</td>\n",
       "      <td>77th Street</td>\n",
       "      <td>1</td>\n",
       "      <td>230</td>\n",
       "      <td>ASSAULT WITH DEADLY WEAPON, AGGRAVATED ASSAULT</td>\n",
       "      <td>Invest Cont</td>\n",
       "      <td>33.9841</td>\n",
       "      <td>-118.2915</td>\n",
       "    </tr>\n",
       "    <tr>\n",
       "      <th>2993430</th>\n",
       "      <td>1.0</td>\n",
       "      <td>Central</td>\n",
       "      <td>1</td>\n",
       "      <td>352</td>\n",
       "      <td>PICKPOCKET</td>\n",
       "      <td>Invest Cont</td>\n",
       "      <td>34.0467</td>\n",
       "      <td>-118.2485</td>\n",
       "    </tr>\n",
       "    <tr>\n",
       "      <th>2993431</th>\n",
       "      <td>9.0</td>\n",
       "      <td>Van Nuys</td>\n",
       "      <td>2</td>\n",
       "      <td>745</td>\n",
       "      <td>VANDALISM - MISDEAMEANOR ($399 OR UNDER)</td>\n",
       "      <td>Invest Cont</td>\n",
       "      <td>34.1951</td>\n",
       "      <td>-118.4487</td>\n",
       "    </tr>\n",
       "    <tr>\n",
       "      <th>2993432</th>\n",
       "      <td>3.0</td>\n",
       "      <td>Southwest</td>\n",
       "      <td>1</td>\n",
       "      <td>331</td>\n",
       "      <td>THEFT FROM MOTOR VEHICLE - GRAND ($950.01 AND ...</td>\n",
       "      <td>Invest Cont</td>\n",
       "      <td>34.0091</td>\n",
       "      <td>-118.3078</td>\n",
       "    </tr>\n",
       "  </tbody>\n",
       "</table>\n",
       "<p>857658 rows × 8 columns</p>\n",
       "</div>"
      ],
      "text/plain": [
       "         AREA    AREA NAME  Part 1-2  Crm Cd  \\\n",
       "2135775   3.0    Southwest         2     624   \n",
       "2135776   1.0      Central         2     624   \n",
       "2135777   1.0      Central         2     845   \n",
       "2135778  15.0  N Hollywood         2     745   \n",
       "2135779  19.0      Mission         2     740   \n",
       "...       ...          ...       ...     ...   \n",
       "2993428  16.0     Foothill         1     230   \n",
       "2993429  12.0  77th Street         1     230   \n",
       "2993430   1.0      Central         1     352   \n",
       "2993431   9.0     Van Nuys         2     745   \n",
       "2993432   3.0    Southwest         1     331   \n",
       "\n",
       "                                               Crm Cd Desc   Status Desc  \\\n",
       "2135775                           BATTERY - SIMPLE ASSAULT   Adult Other   \n",
       "2135776                           BATTERY - SIMPLE ASSAULT   Invest Cont   \n",
       "2135777          SEX OFFENDER REGISTRANT OUT OF COMPLIANCE  Adult Arrest   \n",
       "2135778           VANDALISM - MISDEAMEANOR ($399 OR UNDER)   Invest Cont   \n",
       "2135779  VANDALISM - FELONY ($400 & OVER, ALL CHURCH VA...   Invest Cont   \n",
       "...                                                    ...           ...   \n",
       "2993428     ASSAULT WITH DEADLY WEAPON, AGGRAVATED ASSAULT   Invest Cont   \n",
       "2993429     ASSAULT WITH DEADLY WEAPON, AGGRAVATED ASSAULT   Invest Cont   \n",
       "2993430                                         PICKPOCKET   Invest Cont   \n",
       "2993431           VANDALISM - MISDEAMEANOR ($399 OR UNDER)   Invest Cont   \n",
       "2993432  THEFT FROM MOTOR VEHICLE - GRAND ($950.01 AND ...   Invest Cont   \n",
       "\n",
       "             LAT       LON  \n",
       "2135775  34.0141 -118.2978  \n",
       "2135776  34.0459 -118.2545  \n",
       "2135777  34.0448 -118.2474  \n",
       "2135778  34.1685 -118.4019  \n",
       "2135779  34.2198 -118.4468  \n",
       "...          ...       ...  \n",
       "2993428  34.2790 -118.4116  \n",
       "2993429  33.9841 -118.2915  \n",
       "2993430  34.0467 -118.2485  \n",
       "2993431  34.1951 -118.4487  \n",
       "2993432  34.0091 -118.3078  \n",
       "\n",
       "[857658 rows x 8 columns]"
      ]
     },
     "execution_count": 17,
     "metadata": {},
     "output_type": "execute_result"
    }
   ],
   "source": [
    "data = df[['AREA', 'AREA NAME', 'Part 1-2', 'Crm Cd', 'Crm Cd Desc', 'Status Desc', 'LAT', 'LON']].dropna()\n",
    "data\n"
   ]
  },
  {
   "cell_type": "code",
   "execution_count": 18,
   "id": "f83f2ae1",
   "metadata": {},
   "outputs": [],
   "source": [
    "stats = {}\n",
    "for category in data.columns:\n",
    "    if data[category].dtype != 'object':\n",
    "        stats[category] = {\n",
    "            'min': str(np.min(data[category])),\n",
    "            'max': str(np.max(data[category])),  \n",
    "            'mean': str(np.mean(data[category])),        \n",
    "            'sum': str(np.sum(data[category])),    \n",
    "            'std': str(np.std(data[category]))\n",
    "        }\n",
    "    else:\n",
    "        stats[category] = {e[0]: str(e[1]) for e in tuple(zip(*np.unique(data['AREA NAME'], return_counts=True)))}\n",
    "\n",
    "with open(\"5_stats.json\", \"w\") as outfile: \n",
    "    json.dump(stats, outfile)"
   ]
  },
  {
   "cell_type": "code",
   "execution_count": 19,
   "id": "40e58eea",
   "metadata": {},
   "outputs": [],
   "source": [
    "data.to_csv('5.csv', index=False)\n",
    "\n",
    "data.to_json('5.json')\n",
    "\n",
    "data.to_pickle('5.pickle')\n",
    "\n",
    "with open(\"5.msgpack\", \"wb\") as outfile:\n",
    "    packed = msgpack.packb(data.to_dict())\n",
    "    outfile.write(packed)"
   ]
  },
  {
   "cell_type": "code",
   "execution_count": 20,
   "id": "3757af95",
   "metadata": {},
   "outputs": [
    {
     "name": "stdout",
     "output_type": "stream",
     "text": [
      "Размеры: \n",
      "csv: \t\t68 019 КБ\n",
      "json: \t\t138 902 КБ\n",
      "pickle: \t51 945 КБ\n",
      "msgpack: \t102 886 КБ\n"
     ]
    }
   ],
   "source": [
    "print(f'Размеры: \\ncsv: \\t\\t68 019 КБ\\njson: \\t\\t138 902 КБ\\npickle: \\t51 945 КБ\\nmsgpack: \\t102 886 КБ')"
   ]
  },
  {
   "cell_type": "code",
   "execution_count": null,
   "id": "2566b07d",
   "metadata": {},
   "outputs": [],
   "source": []
  }
 ],
 "metadata": {
  "kernelspec": {
   "display_name": "tf",
   "language": "python",
   "name": "tf"
  },
  "language_info": {
   "codemirror_mode": {
    "name": "ipython",
    "version": 3
   },
   "file_extension": ".py",
   "mimetype": "text/x-python",
   "name": "python",
   "nbconvert_exporter": "python",
   "pygments_lexer": "ipython3",
   "version": "3.10.9"
  }
 },
 "nbformat": 4,
 "nbformat_minor": 5
}
