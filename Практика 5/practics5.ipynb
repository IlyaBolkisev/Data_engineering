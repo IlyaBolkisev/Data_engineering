{
 "cells": [
  {
   "cell_type": "markdown",
   "id": "283cf9d3",
   "metadata": {},
   "source": [
    "# 1"
   ]
  },
  {
   "cell_type": "code",
   "execution_count": 1,
   "id": "e2a7acdc",
   "metadata": {},
   "outputs": [],
   "source": [
    "import pickle\n",
    "\n",
    "with open('./var_02/task_1_item.pkl', \"rb\") as f:\n",
    "    data = pickle.load(f)"
   ]
  },
  {
   "cell_type": "code",
   "execution_count": 2,
   "id": "382204c1",
   "metadata": {},
   "outputs": [],
   "source": [
    "from pymongo import MongoClient\n",
    "\n",
    "client = MongoClient(\"mongodb://localhost:27017/\")\n",
    "db = client[\"database\"]\n",
    "\n",
    "collection = db.sample_collection\n",
    "collection.drop()\n",
    "_ = collection.insert_many(data)"
   ]
  },
  {
   "cell_type": "code",
   "execution_count": 3,
   "id": "0ad00882",
   "metadata": {},
   "outputs": [],
   "source": [
    "import json\n",
    "\n",
    "with open(\"1_sorted_by_salary.json\", \"w\", encoding=\"utf-8\") as outfile: \n",
    "    json.dump([{key: str(e[key]) if type(e[key]) not in ['int', 'float'] else e[key] for key in e} \n",
    "               for e in collection.find({}, limit=10).sort({'salary':-1})], outfile, ensure_ascii=True)\n",
    "    \n",
    "with open(\"1_filtered_by_age_sorted_by_salary.json\", \"w\", encoding=\"utf-8\") as outfile: \n",
    "    json.dump([{key: str(e[key]) if type(e[key]) not in ['int', 'float'] else e[key] for key in e} \n",
    "               for e in collection.find({'age': {'$lt': 30}}, limit=15).sort({'salary':-1})], outfile, ensure_ascii=True)\n",
    "    \n",
    "with open(\"1_filtered_by_complex_sorted_by_age.json\", \"w\", encoding=\"utf-8\") as outfile: \n",
    "    json.dump([{key: str(e[key]) if type(e[key]) not in ['int', 'float'] else e[key] for key in e} \n",
    "               for e in collection.find({'city': 'Варшава', 'job': {'$in': ['Программист', 'Инженер', 'IT-специалист']}}, \n",
    "                                              limit=10).sort({'age':1})], \n",
    "              outfile, ensure_ascii=True)\n",
    "    \n",
    "with open(\"1_count.json\", \"w\", encoding=\"utf-8\") as outfile: \n",
    "    json.dump(collection.count_documents({\n",
    "        \"age\": {\"$gt\": 40, \"$lt\": 60},\n",
    "        \"year\": {\"$gt\": 2018, \"$lt\": 2023},\n",
    "        \"$or\":  [{\"salary\": {\"$gt\": 50000, \"$lt\": 75000}}, \n",
    "                 {\"salary\": {\"$gt\": 125000, \"$lt\": 150000}}]\n",
    "    }), \n",
    "              outfile, ensure_ascii=True)"
   ]
  },
  {
   "cell_type": "markdown",
   "id": "90fcd73e",
   "metadata": {},
   "source": [
    "# 2"
   ]
  },
  {
   "cell_type": "code",
   "execution_count": 4,
   "id": "0bcd6140",
   "metadata": {},
   "outputs": [],
   "source": [
    "import pandas as pd\n",
    "\n",
    "def parse_df(df):\n",
    "    data = df.to_dict()\n",
    "    keys = list(data.keys())\n",
    "    n = len(data[keys[0]])\n",
    "    return [{key : data[key][i] for key in keys} for i in range(n)]\n",
    "\n",
    "data = pd.read_csv('./var_02/task_2_item.csv', sep=';')\n",
    "data = parse_df(data)\n",
    "_ = collection.insert_many(data)"
   ]
  },
  {
   "cell_type": "code",
   "execution_count": 5,
   "id": "efb17cbd",
   "metadata": {},
   "outputs": [],
   "source": [
    "with open(\"2_stats.json\", \"w\", encoding=\"utf-8\") as outfile: \n",
    "    json.dump([e for e in collection.aggregate([\n",
    "        {\"$group\": {\n",
    "            \"_id\":  \"salary\",\n",
    "            \"min\": {\"$min\": \"$salary\"},\n",
    "            \"max\": {\"$max\": \"$salary\"},\n",
    "            \"avg\": {\"$avg\": \"$salary\"}\n",
    "    }}])], outfile, ensure_ascii=True)\n",
    "\n",
    "with open(\"2_freq.json\", \"w\", encoding=\"utf-8\") as outfile: \n",
    "    json.dump([e for e in collection.aggregate([\n",
    "        {\"$group\": {\"_id\": \"$job\", \"count\": {\"$sum\": 1}}},\n",
    "        {\"$sort\": {\"count\": -1}}\n",
    "    ])], outfile, ensure_ascii=True)\n",
    "\n",
    "with open(\"2_salary_stats_city.json\", \"w\", encoding=\"utf-8\") as outfile: \n",
    "    json.dump([e for e in collection.aggregate([\n",
    "        {\"$group\": {\n",
    "            \"_id\":  \"$city\",\n",
    "            \"min\": {\"$min\": \"$salary\"},\n",
    "            \"max\": {\"$max\": \"$salary\"},\n",
    "            \"avg\": {\"$avg\": \"$salary\"}\n",
    "    }}])], outfile, ensure_ascii=True)\n",
    "    \n",
    "with open(\"2_salary_stats_job.json\", \"w\", encoding=\"utf-8\") as outfile: \n",
    "    json.dump([e for e in collection.aggregate([\n",
    "        {\"$group\": {\n",
    "            \"_id\":  \"$job\",\n",
    "            \"min\": {\"$min\": \"$salary\"},\n",
    "            \"max\": {\"$max\": \"$salary\"},\n",
    "            \"avg\": {\"$avg\": \"$salary\"}\n",
    "    }}])], outfile, ensure_ascii=True)\n",
    "\n",
    "with open(\"2_age_stats_city.json\", \"w\", encoding=\"utf-8\") as outfile: \n",
    "    json.dump([e for e in collection.aggregate([\n",
    "        {\"$group\": {\n",
    "            \"_id\":  \"$city\",\n",
    "            \"min\": {\"$min\": \"$age\"},\n",
    "            \"max\": {\"$max\": \"$age\"},\n",
    "            \"avg\": {\"$avg\": \"$age\"}\n",
    "    }}])], outfile, ensure_ascii=True)\n",
    "    \n",
    "with open(\"2_age_stats_job.json\", \"w\", encoding=\"utf-8\") as outfile: \n",
    "    json.dump([e for e in collection.aggregate([\n",
    "        {\"$group\": {\n",
    "            \"_id\":  \"$job\",\n",
    "            \"min\": {\"$min\": \"$age\"},\n",
    "            \"max\": {\"$max\": \"$age\"},\n",
    "            \"avg\": {\"$avg\": \"$age\"}\n",
    "    }}])], outfile, ensure_ascii=True)\n",
    "    \n",
    "with open(\"2_min_age_max_salary.json\", \"w\", encoding=\"utf-8\") as outfile: \n",
    "    json.dump([e for e in collection.aggregate([\n",
    "        {\"$group\": {\n",
    "            \"_id\":  \"$age\",\n",
    "            \"max\": {\"$max\": \"$salary\"}\n",
    "    }},\n",
    "        {\"$group\": {\n",
    "            \"_id\":  \"result\",\n",
    "            \"age\": {\"$min\": \"$_id\"},\n",
    "            \"max\": {\"$max\": \"$max\"}\n",
    "    }}])], outfile, ensure_ascii=True)\n",
    "    \n",
    "with open(\"2_age_stats_city_with_conditions.json\", \"w\", encoding=\"utf-8\") as outfile: \n",
    "    json.dump([e for e in collection.aggregate([\n",
    "        {\"$match\": {\"salary\": {\"$gt\": 50000}}},\n",
    "        {\"$group\": {\n",
    "            \"_id\":  \"$city\",\n",
    "            \"min\": {\"$min\": \"$age\"},\n",
    "            \"max\": {\"$max\": \"$age\"},\n",
    "            \"avg\": {\"$avg\": \"$age\"}\n",
    "        }},\n",
    "        {\"$sort\": {\"_id\": 1}}\n",
    "    ])], outfile, ensure_ascii=True)\n",
    "\n",
    "with open(\"2_salary_stats_city_with_conditions.json\", \"w\", encoding=\"utf-8\") as outfile: \n",
    "    json.dump([e for e in collection.aggregate([\n",
    "        {\"$match\": {\n",
    "            \"city\": {\"$in\": [\"Авилес\", \"Аликанте\", \"Алма-Ата\"]},\n",
    "            \"job\": {\"$in\": ['Программист', 'Инженер', 'IT-специалист']},\n",
    "            \"$or\": [{\"age\": {\"$gt\": 18, \"$lt\": 25}}, \n",
    "                    {\"age\": {\"$gt\": 50, \"$lt\": 65}}]\n",
    "        }},\n",
    "        {\"$group\": {\n",
    "            \"_id\":  \"$city\",\n",
    "            \"min\": {\"$min\": \"$salary\"},\n",
    "            \"max\": {\"$max\": \"$salary\"},\n",
    "            \"avg\": {\"$avg\": \"$salary\"}\n",
    "        }}\n",
    "    ])], outfile, ensure_ascii=True)\n",
    "    \n",
    "with open(\"2_custom.json\", \"w\", encoding=\"utf-8\") as outfile: \n",
    "    json.dump([e for e in collection.aggregate([\n",
    "        {\"$match\": {\"salary\": {\"$gt\": 50000}}},\n",
    "        {\"$group\": {\n",
    "            \"_id\":  \"$year\",\n",
    "            \"min\": {\"$min\": \"$age\"},\n",
    "            \"max\": {\"$max\": \"$age\"},\n",
    "            \"avg\": {\"$avg\": \"$age\"}\n",
    "        }},\n",
    "        {\"$sort\": {\"_id\": 1}}\n",
    "    ])], outfile, ensure_ascii=True)"
   ]
  },
  {
   "cell_type": "markdown",
   "id": "23b4b27c",
   "metadata": {},
   "source": [
    "# 3"
   ]
  },
  {
   "cell_type": "code",
   "execution_count": 6,
   "id": "e0cf5b76",
   "metadata": {},
   "outputs": [],
   "source": [
    "import msgpack\n",
    "    \n",
    "with open(\"./var_02/task_3_item.msgpack\", \"rb\") as data_file:\n",
    "    byte_data = data_file.read()\n",
    "    data = msgpack.unpackb(byte_data)\n",
    "    \n",
    "_ = collection.insert_many(data)"
   ]
  },
  {
   "cell_type": "code",
   "execution_count": 7,
   "id": "e5adbb79",
   "metadata": {},
   "outputs": [
    {
     "data": {
      "text/plain": [
       "DeleteResult({'n': 366, 'ok': 1.0}, acknowledged=True)"
      ]
     },
     "execution_count": 7,
     "metadata": {},
     "output_type": "execute_result"
    }
   ],
   "source": [
    "collection.delete_many({\n",
    "    \"$or\": [{\"salary\": {\"$lt\": 25000}},\n",
    "            {\"salary\": {\"$gt\": 175000}}]})"
   ]
  },
  {
   "cell_type": "code",
   "execution_count": 8,
   "id": "912e12c9",
   "metadata": {},
   "outputs": [
    {
     "data": {
      "text/plain": [
       "UpdateResult({'n': 1718, 'nModified': 1718, 'ok': 1.0, 'updatedExisting': True}, acknowledged=True)"
      ]
     },
     "execution_count": 8,
     "metadata": {},
     "output_type": "execute_result"
    }
   ],
   "source": [
    "collection.update_many({}, {\"$inc\": {\"age\" : 1}})"
   ]
  },
  {
   "cell_type": "code",
   "execution_count": 9,
   "id": "7ed1c04b",
   "metadata": {},
   "outputs": [
    {
     "data": {
      "text/plain": [
       "UpdateResult({'n': 310, 'nModified': 310, 'ok': 1.0, 'updatedExisting': True}, acknowledged=True)"
      ]
     },
     "execution_count": 9,
     "metadata": {},
     "output_type": "execute_result"
    }
   ],
   "source": [
    "collection.update_many({\"job\": {\"$in\" : ['Программист', 'Инженер', 'IT-специалист']}}, \n",
    "                       {\"$mul\": {\"salary\" : 1.05}})"
   ]
  },
  {
   "cell_type": "code",
   "execution_count": 10,
   "id": "71cac7a6",
   "metadata": {},
   "outputs": [
    {
     "data": {
      "text/plain": [
       "UpdateResult({'n': 67, 'nModified': 67, 'ok': 1.0, 'updatedExisting': True}, acknowledged=True)"
      ]
     },
     "execution_count": 10,
     "metadata": {},
     "output_type": "execute_result"
    }
   ],
   "source": [
    "collection.update_many({\"city\": {\"$in\" : [\"Авилес\", \"Аликанте\", \"Алма-Ата\"]}}, \n",
    "                       {\"$mul\": {\"salary\" : 1.07}})"
   ]
  },
  {
   "cell_type": "code",
   "execution_count": 11,
   "id": "949ae085",
   "metadata": {},
   "outputs": [
    {
     "data": {
      "text/plain": [
       "UpdateResult({'n': 3, 'nModified': 3, 'ok': 1.0, 'updatedExisting': True}, acknowledged=True)"
      ]
     },
     "execution_count": 11,
     "metadata": {},
     "output_type": "execute_result"
    }
   ],
   "source": [
    "collection.update_many({\n",
    "    \"city\": \"Авилес\",\n",
    "    \"age\": {\"$gt\": 40},\n",
    "    \"job\": {\"$in\" : ['Программист', 'IT-специалист']}\n",
    "}, \n",
    "                       {\"$mul\": {\"salary\" : 1.1}})"
   ]
  },
  {
   "cell_type": "code",
   "execution_count": 12,
   "id": "476779b2",
   "metadata": {},
   "outputs": [
    {
     "data": {
      "text/plain": [
       "DeleteResult({'n': 64, 'ok': 1.0}, acknowledged=True)"
      ]
     },
     "execution_count": 12,
     "metadata": {},
     "output_type": "execute_result"
    }
   ],
   "source": [
    "collection.delete_many({\n",
    "    \"$and\": [{\"job\": 'Инженер'},\n",
    "            {\"age\": {\"$gt\": 40}}]})"
   ]
  },
  {
   "cell_type": "markdown",
   "id": "fb093264",
   "metadata": {},
   "source": [
    "# 4"
   ]
  },
  {
   "cell_type": "code",
   "execution_count": 13,
   "id": "21d2eea8",
   "metadata": {},
   "outputs": [],
   "source": [
    "collection = db.custom_collection\n",
    "collection.drop()"
   ]
  },
  {
   "cell_type": "code",
   "execution_count": 14,
   "id": "7e10ab6f",
   "metadata": {},
   "outputs": [],
   "source": [
    "with open('data1.json', encoding='utf-8') as f:\n",
    "    data1 = json.load(f)\n",
    "\n",
    "_ = collection.insert_many(data1)    "
   ]
  },
  {
   "cell_type": "code",
   "execution_count": 15,
   "id": "27c5db14",
   "metadata": {},
   "outputs": [],
   "source": [
    "def parse_df(df):\n",
    "    data = df.to_dict()\n",
    "    keys = list(data.keys())\n",
    "    n = len(data[keys[0]])\n",
    "    return [{key : data[key][i] for key in keys} for i in range(n)]\n",
    "\n",
    "data2 = pd.read_csv('data2.csv')\n",
    "data2 = parse_df(data2)\n",
    "_ = collection.insert_many(data2)    "
   ]
  },
  {
   "cell_type": "code",
   "execution_count": 16,
   "id": "bfac8ca0",
   "metadata": {},
   "outputs": [],
   "source": [
    "# выборка \n",
    "with open(\"3_sorted_by_rating.json\", \"w\", encoding=\"utf-8\") as outfile: \n",
    "    json.dump([{key: str(e[key]) if type(e[key]) not in ['int', 'float'] else e[key] for key in e} \n",
    "               for e in collection.find({}, limit=10).sort({'rating':-1})], outfile, ensure_ascii=True)\n",
    "\n",
    "with open(\"3_sorted_by_user_id.json\", \"w\", encoding=\"utf-8\") as outfile: \n",
    "    json.dump([{key: str(e[key]) if type(e[key]) not in ['int', 'float'] else e[key] for key in e} \n",
    "               for e in collection.find({}, limit=10).sort({'user_id':-1})], outfile, ensure_ascii=True)\n",
    "    \n",
    "with open(\"3_filtered_by_ws_sorted_by_rating.json\", \"w\", encoding=\"utf-8\") as outfile: \n",
    "    json.dump([{key: str(e[key]) if type(e[key]) not in ['int', 'float'] else e[key] for key in e} \n",
    "               for e in collection.find({'watching_status': 0}, limit=15).sort({'rating':-1})], outfile, ensure_ascii=True)\n",
    "    \n",
    "with open(\"3_filtered_by_complex_sorted_by_rating.json\", \"w\", encoding=\"utf-8\") as outfile: \n",
    "    json.dump([{key: str(e[key]) if type(e[key]) not in ['int', 'float'] else e[key] for key in e} \n",
    "               for e in collection.find({'anime_id': 138, 'watching_status': {'$in': ['0', '1']}}, \n",
    "                                              limit=10).sort({'rating':1})], \n",
    "              outfile, ensure_ascii=True)\n",
    "    \n",
    "with open(\"3_count.json\", \"w\", encoding=\"utf-8\") as outfile: \n",
    "    json.dump(collection.count_documents({\n",
    "        \"user_id\" : 0\n",
    "    }), \n",
    "              outfile, ensure_ascii=True)"
   ]
  },
  {
   "cell_type": "code",
   "execution_count": 17,
   "id": "d61d9332",
   "metadata": {},
   "outputs": [],
   "source": [
    "# выбора с агрегацией\n",
    "with open(\"3_stats.json\", \"w\", encoding=\"utf-8\") as outfile: \n",
    "    json.dump([e for e in collection.aggregate([\n",
    "        {\"$group\": {\n",
    "            \"_id\":  \"rating\",\n",
    "            \"min\": {\"$min\": \"$rating\"},\n",
    "            \"max\": {\"$max\": \"$rating\"},\n",
    "            \"avg\": {\"$avg\": \"$rating\"}\n",
    "    }}])], outfile, ensure_ascii=True)\n",
    "\n",
    "with open(\"3_freq.json\", \"w\", encoding=\"utf-8\") as outfile: \n",
    "    json.dump([e for e in collection.aggregate([\n",
    "        {\"$group\": {\"_id\": \"$watching_status\", \"count\": {\"$sum\": 1}}},\n",
    "        {\"$sort\": {\"count\": -1}}\n",
    "    ])], outfile, ensure_ascii=True)\n",
    "\n",
    "with open(\"3_rating_stats_anime.json\", \"w\", encoding=\"utf-8\") as outfile: \n",
    "    json.dump([e for e in collection.aggregate([\n",
    "        {\"$group\": {\n",
    "            \"_id\":  \"$anime_id\",\n",
    "            \"min\": {\"$min\": \"$rating\"},\n",
    "            \"max\": {\"$max\": \"$rating\"},\n",
    "            \"avg\": {\"$avg\": \"$rating\"}\n",
    "    }}])], outfile, ensure_ascii=True)\n",
    "    \n",
    "with open(\"3_user_stats_episodes.json\", \"w\", encoding=\"utf-8\") as outfile: \n",
    "    json.dump([e for e in collection.aggregate([\n",
    "        {\"$group\": {\n",
    "            \"_id\":  \"$user_id\",\n",
    "            \"sum\": {\"$sum\": \"$watched_episodes\"},\n",
    "    }}])], outfile, ensure_ascii=True)\n",
    "\n",
    "\n",
    "with open(\"3_user_stats_rating_with_conditions.json\", \"w\", encoding=\"utf-8\") as outfile: \n",
    "    json.dump([e for e in collection.aggregate([\n",
    "        {\"$match\": {\"watching_status\": {\"$gt\": 0}}},\n",
    "        {\"$group\": {\n",
    "            \"_id\":  \"$user_id\",\n",
    "            \"min\": {\"$min\": \"$rating\"},\n",
    "            \"max\": {\"$max\": \"$rating\"},\n",
    "            \"avg\": {\"$avg\": \"$rating\"}\n",
    "        }},\n",
    "        {\"$sort\": {\"_id\": 1}}\n",
    "    ])], outfile, ensure_ascii=True)"
   ]
  },
  {
   "cell_type": "code",
   "execution_count": 18,
   "id": "ed8bce84",
   "metadata": {},
   "outputs": [
    {
     "data": {
      "text/plain": [
       "DeleteResult({'n': 206460, 'ok': 1.0}, acknowledged=True)"
      ]
     },
     "execution_count": 18,
     "metadata": {},
     "output_type": "execute_result"
    }
   ],
   "source": [
    "# обновление/удаление данных\n",
    "\n",
    "collection.delete_many({\"watching_status\": 2})"
   ]
  },
  {
   "cell_type": "code",
   "execution_count": 19,
   "id": "d4f95e15",
   "metadata": {},
   "outputs": [
    {
     "data": {
      "text/plain": [
       "UpdateResult({'n': 139917, 'nModified': 139917, 'ok': 1.0, 'updatedExisting': True}, acknowledged=True)"
      ]
     },
     "execution_count": 19,
     "metadata": {},
     "output_type": "execute_result"
    }
   ],
   "source": [
    "collection.update_many({}, {\"$inc\": {\"user_id\" : 1}})"
   ]
  },
  {
   "cell_type": "code",
   "execution_count": 20,
   "id": "3bc79c55",
   "metadata": {},
   "outputs": [
    {
     "data": {
      "text/plain": [
       "UpdateResult({'n': 2454, 'nModified': 2454, 'ok': 1.0, 'updatedExisting': True}, acknowledged=True)"
      ]
     },
     "execution_count": 20,
     "metadata": {},
     "output_type": "execute_result"
    }
   ],
   "source": [
    "collection.update_many({\"rating\": {\"$gt\": 8}}, \n",
    "                       {\"$inc\": {\"watching_status\" : 10}})"
   ]
  },
  {
   "cell_type": "code",
   "execution_count": 21,
   "id": "47a4e9eb",
   "metadata": {},
   "outputs": [
    {
     "data": {
      "text/plain": [
       "UpdateResult({'n': 28, 'nModified': 28, 'ok': 1.0, 'updatedExisting': True}, acknowledged=True)"
      ]
     },
     "execution_count": 21,
     "metadata": {},
     "output_type": "execute_result"
    }
   ],
   "source": [
    "collection.update_many({\"anime_id\": 100}, \n",
    "                       {\"$mul\": {\"watching_status\" : 0}})"
   ]
  },
  {
   "cell_type": "code",
   "execution_count": 22,
   "id": "d19c1e10",
   "metadata": {},
   "outputs": [
    {
     "data": {
      "text/plain": [
       "DeleteResult({'n': 125467, 'ok': 1.0}, acknowledged=True)"
      ]
     },
     "execution_count": 22,
     "metadata": {},
     "output_type": "execute_result"
    }
   ],
   "source": [
    "collection.delete_many({\"anime_id\": {\"$gt\": 500}})"
   ]
  },
  {
   "cell_type": "code",
   "execution_count": null,
   "id": "847e791f",
   "metadata": {},
   "outputs": [],
   "source": []
  }
 ],
 "metadata": {
  "kernelspec": {
   "display_name": "Python 3 (ipykernel)",
   "language": "python",
   "name": "python3"
  },
  "language_info": {
   "codemirror_mode": {
    "name": "ipython",
    "version": 3
   },
   "file_extension": ".py",
   "mimetype": "text/x-python",
   "name": "python",
   "nbconvert_exporter": "python",
   "pygments_lexer": "ipython3",
   "version": "3.10.9"
  }
 },
 "nbformat": 4,
 "nbformat_minor": 5
}
