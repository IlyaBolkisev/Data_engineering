{
 "cells": [
  {
   "cell_type": "markdown",
   "id": "c3a3b128",
   "metadata": {},
   "source": [
    "# Задание 1"
   ]
  },
  {
   "cell_type": "code",
   "execution_count": 59,
   "id": "84401bdc",
   "metadata": {},
   "outputs": [
    {
     "data": {
      "text/plain": [
       "[{'Город': 'Варшава',\n",
       "  'Этажи': 4,\n",
       "  'Год': 1945,\n",
       "  'Парковка': 'нет',\n",
       "  'Рейтинг': 2.6,\n",
       "  'Просмотры': 66852,\n",
       "  'Строение': 'Стадион 54',\n",
       "  'Ссылка на изображение': '\"https://upload.build.com/641819.jpeg\"',\n",
       "  'Улица': 'Юбилейная улица 4',\n",
       "  'Индекс': 137266},\n",
       " {'Город': 'Таллин',\n",
       "  'Этажи': 8,\n",
       "  'Год': 1895,\n",
       "  'Парковка': 'есть',\n",
       "  'Рейтинг': 4.6,\n",
       "  'Просмотры': 84318,\n",
       "  'Строение': 'Церковь 88',\n",
       "  'Ссылка на изображение': '\"https://upload.abc-build.it/996334.png\"',\n",
       "  'Улица': 'Речная улица 46',\n",
       "  'Индекс': 256827},\n",
       " {'Город': 'Тирана',\n",
       "  'Этажи': 10,\n",
       "  'Год': 1673,\n",
       "  'Парковка': 'нет',\n",
       "  'Рейтинг': 3.3,\n",
       "  'Просмотры': 59832,\n",
       "  'Строение': 'Подвал 6',\n",
       "  'Ссылка на изображение': '\"https://upload.buybuild.org/78549.webp\"',\n",
       "  'Улица': 'Киевская улица 50',\n",
       "  'Индекс': 287783}]"
      ]
     },
     "execution_count": 59,
     "metadata": {},
     "output_type": "execute_result"
    }
   ],
   "source": [
    "import os\n",
    "from bs4 import BeautifulSoup\n",
    "\n",
    "fns = os.listdir('./1/zip_var_2')\n",
    "\n",
    "data = []\n",
    "for i, fn in enumerate(fns):\n",
    "    with open(f'./1/zip_var_2/{fn}', encoding=\"utf-8\") as f:\n",
    "        lines = f.read()\n",
    "    bs = BeautifulSoup(lines, 'html.parser')\n",
    "    \n",
    "    data.append({})\n",
    "    for row in [str(e).replace('</span>', '').split('>')[-1] for e in bs.find_all(\"span\")]:\n",
    "        if ':' in row:\n",
    "            k, v = row.replace(': ', ':').split(':')\n",
    "            data[i][k.strip()] = v.strip()\n",
    "        else:\n",
    "            data[i]['Год'] = row.strip()[-4:]\n",
    "    \n",
    "    data[i]['Строение'] = str(bs.find_all(\"h1\")[0]).replace('</h1>', '').split(':')[-1].strip()\n",
    "    data[i]['Ссылка на изображение'] = str(bs.find_all(\"img\")[0])[:-2].split('=')[-1]\n",
    "    \n",
    "    address = str(bs.find_all(\"p\")[0]).replace('</p>', '').replace('\\n     ','').split('>')[-1].split('Индекс:')\n",
    "    data[i]['Улица'] = address[0].replace('Улица: ', '').replace('Улица:', '')\n",
    "    data[i]['Индекс'] = address[1].strip()\n",
    "\n",
    "    for key in data[i]:\n",
    "        if data[i][key].replace('.', '').isdigit():\n",
    "            if '.' in data[i][key]:\n",
    "                data[i][key] = float(data[i][key])\n",
    "            else:\n",
    "                data[i][key] = int(data[i][key])\n",
    "data[:3]"
   ]
  },
  {
   "cell_type": "code",
   "execution_count": 60,
   "id": "181852a2",
   "metadata": {},
   "outputs": [
    {
     "data": {
      "text/plain": [
       "[{'Город': 'Загреб',\n",
       "  'Этажи': 5,\n",
       "  'Год': 1619,\n",
       "  'Парковка': 'есть',\n",
       "  'Рейтинг': 5.0,\n",
       "  'Просмотры': 72049,\n",
       "  'Строение': 'Мост 95',\n",
       "  'Ссылка на изображение': '\"https://upload.build.com/8666.jpg\"',\n",
       "  'Улица': 'Варшавская улица 20',\n",
       "  'Индекс': 227972},\n",
       " {'Город': 'Луго',\n",
       "  'Этажи': 6,\n",
       "  'Год': 1625,\n",
       "  'Парковка': 'есть',\n",
       "  'Рейтинг': 5.0,\n",
       "  'Просмотры': 69296,\n",
       "  'Строение': 'Особняк 5',\n",
       "  'Ссылка на изображение': '\"https://upload.abc-build.it/532079.svg\"',\n",
       "  'Улица': 'Зимняя улица 62',\n",
       "  'Индекс': 378903},\n",
       " {'Город': 'Лас-Росас',\n",
       "  'Этажи': 7,\n",
       "  'Год': 1649,\n",
       "  'Парковка': 'есть',\n",
       "  'Рейтинг': 5.0,\n",
       "  'Просмотры': 21923,\n",
       "  'Строение': 'Тенета 6',\n",
       "  'Ссылка на изображение': '\"https://upload.build.com/319794.webp\"',\n",
       "  'Улица': 'Зимняя улица 53',\n",
       "  'Индекс': 206590}]"
      ]
     },
     "execution_count": 60,
     "metadata": {},
     "output_type": "execute_result"
    }
   ],
   "source": [
    "import json\n",
    "\n",
    "\n",
    "data = sorted(data, key=lambda x: x['Год'])\n",
    "filtered_data = list(filter(lambda x: x['Рейтинг'] == 5, data))\n",
    "\n",
    "with open('1_filtered.json', 'w') as f:\n",
    "    json.dump(filtered_data, f)\n",
    "    \n",
    "filtered_data[:3]"
   ]
  },
  {
   "cell_type": "code",
   "execution_count": 61,
   "id": "32b6acb7",
   "metadata": {},
   "outputs": [
    {
     "name": "stdout",
     "output_type": "stream",
     "text": [
      "Сумма: 5410\n",
      "Минимум: 1\n",
      "Максимум: 10\n",
      "Среднее: 5.415415415415415\n",
      "Медиана: 5.0\n",
      "\n"
     ]
    }
   ],
   "source": [
    "import numpy as np\n",
    "\n",
    "floor = [e['Этажи'] for e in data]\n",
    "print(f'Сумма: {str(np.sum(floor))}\\n' +\n",
    "      f'Минимум: {str(np.min(floor))}\\n' +\n",
    "      f'Максимум: {str(np.max(floor))}\\n' +\n",
    "      f'Среднее: {str(np.mean(floor))}\\n' +\n",
    "      f'Медиана: {str(np.median(floor))}\\n')"
   ]
  },
  {
   "cell_type": "code",
   "execution_count": 62,
   "id": "c9b8cb6c",
   "metadata": {},
   "outputs": [
    {
     "name": "stdout",
     "output_type": "stream",
     "text": [
      "Частота:\n",
      " [('Аликанте', 21), ('Хихон', 19), ('Алькала-де-Энарес', 18), ('Осера', 18), ('Алма-Ата', 17), ('Афины', 17), ('Будапешт', 17), ('Душанбе', 17), ('София', 17), ('Эльче', 17), ('Артейхо', 16), ('Касерес', 16), ('Луго', 16), ('Пласенсия', 16), ('Сан-Себастьян', 16), ('Скопье', 16), ('Сория', 16), ('Авилес', 15), ('Загреб', 15), ('Ла-Корунья', 15), ('Сеговия', 15), ('Баку', 14), ('Бишкек', 14), ('Валенсия', 14), ('Кадакес', 14), ('Любляна', 14), ('Навалькарнеро', 14), ('Сантьяго-де-Компостела', 14), ('Хельсинки', 14), ('Белград', 13), ('Бильбао', 13), ('Ереван', 13), ('Лас-Росас', 13), ('Малага', 13), ('Таллин', 13), ('Ташкент', 13), ('Гранада', 12), ('Киев', 12), ('Кишинев', 12), ('Луарка', 12), ('Льейда', 12), ('Мадрид', 12), ('Рига', 12), ('Севилья', 12), ('Сьюдад-Реаль', 12), ('Тарраса', 12), ('Бланес', 11), ('Виго', 11), ('Мерида', 11), ('Овьедо', 11), ('Самора', 11), ('Санхенхо', 11), ('Сараево', 11), ('Барселона', 10), ('Вальядолид', 10), ('Вильявисиоса', 10), ('Краков', 10), ('Куэнка', 10), ('Махадаонда', 10), ('Монсон', 10), ('Подгорица', 10), ('Санкт-Петербург', 10), ('Семана', 10), ('Тирана', 10), ('Тудела', 10), ('Вильнюс', 9), ('Камбадос', 9), ('Кордова', 9), ('Мартоса', 9), ('Мурсия', 9), ('Прага', 9), ('Эль-Пуэрто-де-Санта-Мария', 9), ('Астана', 8), ('Варшава', 8), ('Вроцлав', 8), ('Фигерас', 8), ('Минск', 7), ('Тбилиси', 7), ('Трухильо', 7), ('Картахена', 6), ('Бургос', 4), ('Москва', 3)]\n"
     ]
    }
   ],
   "source": [
    "city = [e['Город'] for e in data]\n",
    "\n",
    "freq = sorted(tuple(zip(*np.unique(city, return_counts=True))), key=lambda x: x[1], reverse=True)\n",
    "print('Частота:\\n', freq)"
   ]
  },
  {
   "cell_type": "markdown",
   "id": "167bb560",
   "metadata": {},
   "source": [
    "# Задание 2"
   ]
  },
  {
   "cell_type": "code",
   "execution_count": 63,
   "id": "0a0ee29c",
   "metadata": {},
   "outputs": [
    {
     "data": {
      "text/plain": [
       "[{'id': 35593,\n",
       "  'name': '6.7\" Samsung 224GB',\n",
       "  'price': 413700,\n",
       "  'bonus': 4137,\n",
       "  'sim': '2 SIM',\n",
       "  'matrix': 'OLED'},\n",
       " {'id': 11194,\n",
       "  'name': '5.2\" OPPO 144GB',\n",
       "  'price': 327740,\n",
       "  'bonus': 3277,\n",
       "  'processor': '2x3.4 ГГц',\n",
       "  'ram': '8 GB',\n",
       "  'sim': '3 SIM',\n",
       "  'matrix': 'OLED',\n",
       "  'resolution': '1280x1200',\n",
       "  'camera': '92 MP',\n",
       "  'acc': '2392 мА * ч'},\n",
       " {'id': 20938,\n",
       "  'name': '7.3\" Marvell 112GB',\n",
       "  'price': 317261,\n",
       "  'bonus': 3172,\n",
       "  'processor': '2x4.6 ГГц',\n",
       "  'ram': '9 GB',\n",
       "  'sim': '1 SIM',\n",
       "  'matrix': 'OLED',\n",
       "  'resolution': '1366x1080',\n",
       "  'acc': '4308 мА * ч'}]"
      ]
     },
     "execution_count": 63,
     "metadata": {},
     "output_type": "execute_result"
    }
   ],
   "source": [
    "fns = os.listdir('./2/zip_var_2')\n",
    "\n",
    "data = []\n",
    "for i, fn in enumerate(fns):\n",
    "    with open(f'./2/zip_var_2/{fn}', encoding=\"utf-8\") as f:\n",
    "        lines = f.read()\n",
    "    bs = BeautifulSoup(lines, 'html.parser')\n",
    "    \n",
    "    for product in bs.find_all(\"div\", attrs={'class':\"product-item\"}):\n",
    "        idx = len(data)\n",
    "        data.append({})\n",
    "        \n",
    "        data[idx]['id'] = int(product.find_all('a')[0].attrs['data-id'])\n",
    "        data[idx]['name'] = product.find_all('span')[0].text.strip()\n",
    "        data[idx]['price'] = int(product.find_all('price')[0].text.replace('₽', '').replace(' ', ''))\n",
    "        data[idx]['bonus'] = int(product.find_all('strong')[0].text.split()[2])\n",
    "        for category in product.find_all('li'):\n",
    "            data[idx][category.attrs['type'].strip()] = category.text.strip()\n",
    "        break\n",
    "    \n",
    "   \n",
    "data[:3]"
   ]
  },
  {
   "cell_type": "code",
   "execution_count": 64,
   "id": "9ee7573d",
   "metadata": {},
   "outputs": [
    {
     "data": {
      "text/plain": [
       "[{'id': 18503,\n",
       "  'name': '7.4\" Huawei P 240GB',\n",
       "  'price': 44227,\n",
       "  'bonus': 442,\n",
       "  'ram': '8 GB',\n",
       "  'acc': '3618 мА * ч'},\n",
       " {'id': 19413,\n",
       "  'name': '5.3\" iPhone 13 160GB',\n",
       "  'price': 91001,\n",
       "  'bonus': 910,\n",
       "  'processor': '4x4.2 ГГц',\n",
       "  'sim': '1 SIM',\n",
       "  'matrix': 'IPS',\n",
       "  'resolution': '1600x1080',\n",
       "  'camera': '16 MP'},\n",
       " {'id': 19706,\n",
       "  'name': '6.0\" Qualcomm 128GB',\n",
       "  'price': 84349,\n",
       "  'bonus': 843,\n",
       "  'processor': '4x2.6 ГГц',\n",
       "  'ram': '7 GB',\n",
       "  'sim': '2 SIM',\n",
       "  'matrix': 'OLED',\n",
       "  'camera': '20 MP',\n",
       "  'acc': '3666 мА * ч'}]"
      ]
     },
     "execution_count": 64,
     "metadata": {},
     "output_type": "execute_result"
    }
   ],
   "source": [
    "data = sorted(data, key=lambda x: x['id'])\n",
    "filtered_data = list(filter(lambda x: x['price'] < 100000, data))\n",
    "\n",
    "with open('2_filtered.json', 'w') as f:\n",
    "    json.dump(filtered_data, f)\n",
    "    \n",
    "filtered_data[:3]"
   ]
  },
  {
   "cell_type": "code",
   "execution_count": 65,
   "id": "a28bcae7",
   "metadata": {},
   "outputs": [
    {
     "name": "stdout",
     "output_type": "stream",
     "text": [
      "Сумма: 175890\n",
      "Минимум: 173\n",
      "Максимум: 4755\n",
      "Среднее: 2625.223880597015\n",
      "Медиана: 2878.0\n",
      "\n"
     ]
    }
   ],
   "source": [
    "bonus = [e['bonus'] for e in data]\n",
    "print(f'Сумма: {str(np.sum(bonus))}\\n' +\n",
    "      f'Минимум: {str(np.min(bonus))}\\n' +\n",
    "      f'Максимум: {str(np.max(bonus))}\\n' +\n",
    "      f'Среднее: {str(np.mean(bonus))}\\n' +\n",
    "      f'Медиана: {str(np.median(bonus))}\\n')"
   ]
  },
  {
   "cell_type": "code",
   "execution_count": 74,
   "id": "696711dd",
   "metadata": {},
   "outputs": [
    {
     "name": "stdout",
     "output_type": "stream",
     "text": [
      "Частота:\n",
      " [('AMOLED', 17), ('OLED', 16), ('IPS', 12)]\n"
     ]
    }
   ],
   "source": [
    "matrix = [e['matrix'] for e in data if 'matrix' in e]\n",
    "\n",
    "freq = sorted(tuple(zip(*np.unique(matrix, return_counts=True))), key=lambda x: x[1], reverse=True)\n",
    "print('Частота:\\n', freq)"
   ]
  },
  {
   "cell_type": "markdown",
   "id": "b490ff01",
   "metadata": {},
   "source": [
    "# Задание 3"
   ]
  },
  {
   "cell_type": "code",
   "execution_count": 117,
   "id": "2114e625",
   "metadata": {},
   "outputs": [
    {
     "data": {
      "text/plain": [
       "[{'name': 'Солнце 4968',\n",
       "  'constellation': 'Водолей',\n",
       "  'spectral-class': 'F8Y',\n",
       "  'radius': 235308875,\n",
       "  'rotation': 432.44,\n",
       "  'age': 1.18,\n",
       "  'distance': 507925.62,\n",
       "  'absolute-magnitude': 2.98},\n",
       " {'name': 'Антарес 2462',\n",
       "  'constellation': 'Близнецы',\n",
       "  'spectral-class': 'A2V',\n",
       "  'radius': 803967522,\n",
       "  'rotation': 569.55,\n",
       "  'age': 0.07,\n",
       "  'distance': 7464771.22,\n",
       "  'absolute-magnitude': 7.59},\n",
       " {'name': 'Бетельгейзе 2041',\n",
       "  'constellation': 'Дева',\n",
       "  'spectral-class': 'U5H',\n",
       "  'radius': 862039415,\n",
       "  'rotation': 898.84,\n",
       "  'age': 5.96,\n",
       "  'distance': 6219264.48,\n",
       "  'absolute-magnitude': 5.22}]"
      ]
     },
     "execution_count": 117,
     "metadata": {},
     "output_type": "execute_result"
    }
   ],
   "source": [
    "fns = os.listdir('./3/zip_var_2')\n",
    "\n",
    "data = []\n",
    "for i, fn in enumerate(fns):\n",
    "    with open(f'./3/zip_var_2/{fn}', encoding=\"utf-8\") as f:\n",
    "        lines = f.read()\n",
    "    bs = BeautifulSoup(lines, 'xml')\n",
    "    idx = len(data)\n",
    "    data.append({})\n",
    "    for item in [e for e in list(bs.find_all('star')[0].children) if e != '\\n']:\n",
    "        if item.name == 'radius':\n",
    "            data[idx][item.name] = int(item.text.strip())\n",
    "        elif item.name in ['rotation', 'age', 'distance', 'absolute-magnitude'] :\n",
    "            data[idx][item.name] = float(item.text.strip().split()[0])\n",
    "        else:\n",
    "            data[idx][item.name] = item.text.strip()\n",
    "   \n",
    "data[:3]"
   ]
  },
  {
   "cell_type": "code",
   "execution_count": 118,
   "id": "5eb3ccdd",
   "metadata": {},
   "outputs": [
    {
     "data": {
      "text/plain": [
       "[{'name': 'Акрукс 4340',\n",
       "  'constellation': 'Рак',\n",
       "  'spectral-class': 'V9X',\n",
       "  'radius': 417456698,\n",
       "  'rotation': 374.06,\n",
       "  'age': 0.08,\n",
       "  'distance': 309329.91,\n",
       "  'absolute-magnitude': 6.17},\n",
       " {'name': 'Антарес 1313',\n",
       "  'constellation': 'Козерог',\n",
       "  'spectral-class': 'M0G',\n",
       "  'radius': 137317045,\n",
       "  'rotation': 981.57,\n",
       "  'age': 0.23,\n",
       "  'distance': 352157.54,\n",
       "  'absolute-magnitude': 1.47},\n",
       " {'name': 'Фомальгаут 2006',\n",
       "  'constellation': 'Рыбы',\n",
       "  'spectral-class': 'X7P',\n",
       "  'radius': 29872177,\n",
       "  'rotation': 333.15,\n",
       "  'age': 0.4,\n",
       "  'distance': 225975.39,\n",
       "  'absolute-magnitude': 1.05}]"
      ]
     },
     "execution_count": 118,
     "metadata": {},
     "output_type": "execute_result"
    }
   ],
   "source": [
    "data = sorted(data, key=lambda x: x['age'])\n",
    "filtered_data = list(filter(lambda x: x['distance'] < 500000, data))\n",
    "\n",
    "with open('3_filtered.json', 'w') as f:\n",
    "    json.dump(filtered_data, f)\n",
    "    \n",
    "filtered_data[:3]"
   ]
  },
  {
   "cell_type": "code",
   "execution_count": 119,
   "id": "639c070b",
   "metadata": {},
   "outputs": [
    {
     "name": "stdout",
     "output_type": "stream",
     "text": [
      "Сумма: 2846.47\n",
      "Минимум: 1.0\n",
      "Максимум: 9.98\n",
      "Среднее: 5.692939999999999\n",
      "Медиана: 5.795\n",
      "\n"
     ]
    }
   ],
   "source": [
    "absolute_magnitude = [e['absolute-magnitude'] for e in data]\n",
    "print(f'Сумма: {str(np.sum(absolute_magnitude))}\\n' +\n",
    "      f'Минимум: {str(np.min(absolute_magnitude))}\\n' +\n",
    "      f'Максимум: {str(np.max(absolute_magnitude))}\\n' +\n",
    "      f'Среднее: {str(np.mean(absolute_magnitude))}\\n' +\n",
    "      f'Медиана: {str(np.median(absolute_magnitude))}\\n')"
   ]
  },
  {
   "cell_type": "code",
   "execution_count": 121,
   "id": "01f7496f",
   "metadata": {},
   "outputs": [
    {
     "name": "stdout",
     "output_type": "stream",
     "text": [
      "Частота:\n",
      " [('Дева', 50), ('Водолей', 47), ('Овен', 46), ('Рак', 45), ('Весы', 44), ('Близнецы', 43), ('Телец', 43), ('Козерог', 38), ('Рыбы', 38), ('Стрелец', 37), ('Скорпион', 36), ('Лев', 33)]\n"
     ]
    }
   ],
   "source": [
    "constellation = [e['constellation'] for e in data if 'constellation' in e]\n",
    "\n",
    "freq = sorted(tuple(zip(*np.unique(constellation, return_counts=True))), key=lambda x: x[1], reverse=True)\n",
    "print('Частота:\\n', freq)"
   ]
  },
  {
   "cell_type": "markdown",
   "id": "772473b2",
   "metadata": {},
   "source": [
    "# Задание 4"
   ]
  },
  {
   "cell_type": "code",
   "execution_count": 126,
   "id": "9a9b24b4",
   "metadata": {},
   "outputs": [
    {
     "data": {
      "text/plain": [
       "[{'id': 144380275,\n",
       "  'name': 'Adidas Skirt L-8488',\n",
       "  'category': 'Skirt',\n",
       "  'size': 'M',\n",
       "  'color': 'Синий',\n",
       "  'material': 'Лен',\n",
       "  'price': 561262,\n",
       "  'rating': 1.6,\n",
       "  'reviews': 741865,\n",
       "  'new': '-',\n",
       "  'exclusive': 'yes',\n",
       "  'sporty': 'no'},\n",
       " {'id': 144380275,\n",
       "  'name': 'Adidas Skirt L-8488',\n",
       "  'category': 'Skirt',\n",
       "  'size': 'M',\n",
       "  'color': 'Синий',\n",
       "  'material': 'Лен',\n",
       "  'price': 561262,\n",
       "  'rating': 1.6,\n",
       "  'reviews': 741865,\n",
       "  'new': '-',\n",
       "  'exclusive': 'yes',\n",
       "  'sporty': 'no'},\n",
       " {'id': 144380275,\n",
       "  'name': 'Adidas Skirt L-8488',\n",
       "  'category': 'Skirt',\n",
       "  'size': 'M',\n",
       "  'color': 'Синий',\n",
       "  'material': 'Лен',\n",
       "  'price': 561262,\n",
       "  'rating': 1.6,\n",
       "  'reviews': 741865,\n",
       "  'new': '-',\n",
       "  'exclusive': 'yes',\n",
       "  'sporty': 'no'}]"
      ]
     },
     "execution_count": 126,
     "metadata": {},
     "output_type": "execute_result"
    }
   ],
   "source": [
    "fns = os.listdir('./4/zip_var_2')\n",
    "\n",
    "data = []\n",
    "for i, fn in enumerate(fns):\n",
    "    with open(f'./4/zip_var_2/{fn}', encoding=\"utf-8\") as f:\n",
    "        lines = f.read()\n",
    "    bs = BeautifulSoup(lines, 'xml')\n",
    "    for clothing in bs.find_all('clothing'):\n",
    "        idx = len(data)\n",
    "        data.append({})\n",
    "        for item in [e for e in list(bs.find_all('clothing')[0].children) if e != '\\n']:\n",
    "            if item.name in ['id', 'price', 'reviews']:\n",
    "                data[idx][item.name] = int(item.text.strip())\n",
    "            elif item.name == 'rating':\n",
    "                data[idx][item.name] = float(item.text.strip())\n",
    "                \n",
    "            else:\n",
    "                data[idx][item.name] = item.text.strip()\n",
    "                \n",
    "data[:3]"
   ]
  },
  {
   "cell_type": "code",
   "execution_count": 127,
   "id": "39749511",
   "metadata": {},
   "outputs": [
    {
     "data": {
      "text/plain": [
       "[{'id': 115417128,\n",
       "  'name': 'Under Armour Jacket S-6440',\n",
       "  'category': 'Jacket',\n",
       "  'size': 'L',\n",
       "  'color': 'Синий',\n",
       "  'material': 'Нейлон',\n",
       "  'price': 437580,\n",
       "  'rating': 4.71,\n",
       "  'reviews': 957281,\n",
       "  'sporty': 'no'},\n",
       " {'id': 115417128,\n",
       "  'name': 'Under Armour Jacket S-6440',\n",
       "  'category': 'Jacket',\n",
       "  'size': 'L',\n",
       "  'color': 'Синий',\n",
       "  'material': 'Нейлон',\n",
       "  'price': 437580,\n",
       "  'rating': 4.71,\n",
       "  'reviews': 957281,\n",
       "  'sporty': 'no'},\n",
       " {'id': 115417128,\n",
       "  'name': 'Under Armour Jacket S-6440',\n",
       "  'category': 'Jacket',\n",
       "  'size': 'L',\n",
       "  'color': 'Синий',\n",
       "  'material': 'Нейлон',\n",
       "  'price': 437580,\n",
       "  'rating': 4.71,\n",
       "  'reviews': 957281,\n",
       "  'sporty': 'no'}]"
      ]
     },
     "execution_count": 127,
     "metadata": {},
     "output_type": "execute_result"
    }
   ],
   "source": [
    "data = sorted(data, key=lambda x: x['id'])\n",
    "filtered_data = list(filter(lambda x: x['rating'] > 4, data))\n",
    "\n",
    "with open('4_filtered.json', 'w') as f:\n",
    "    json.dump(filtered_data, f)\n",
    "    \n",
    "filtered_data[:3]"
   ]
  },
  {
   "cell_type": "code",
   "execution_count": 128,
   "id": "f439766b",
   "metadata": {},
   "outputs": [
    {
     "name": "stdout",
     "output_type": "stream",
     "text": [
      "Сумма: 1343922452\n",
      "Минимум: 2724\n",
      "Максимум: 972181\n",
      "Среднее: 447526.624042624\n",
      "Медиана: 469635.0\n",
      "\n"
     ]
    }
   ],
   "source": [
    "reviews = [e['reviews'] for e in data]\n",
    "print(f'Сумма: {str(np.sum(reviews))}\\n' +\n",
    "      f'Минимум: {str(np.min(reviews))}\\n' +\n",
    "      f'Максимум: {str(np.max(reviews))}\\n' +\n",
    "      f'Среднее: {str(np.mean(reviews))}\\n' +\n",
    "      f'Медиана: {str(np.median(reviews))}\\n')"
   ]
  },
  {
   "cell_type": "code",
   "execution_count": 129,
   "id": "8824c183",
   "metadata": {},
   "outputs": [
    {
     "name": "stdout",
     "output_type": "stream",
     "text": [
      "Частота:\n",
      " [('M', 679), ('XL', 670), ('S', 617), ('XXL', 526), ('L', 511)]\n"
     ]
    }
   ],
   "source": [
    "size = [e['size'] for e in data]\n",
    "\n",
    "freq = sorted(tuple(zip(*np.unique(size, return_counts=True))), key=lambda x: x[1], reverse=True)\n",
    "print('Частота:\\n', freq)"
   ]
  },
  {
   "cell_type": "markdown",
   "id": "4f12b7a5",
   "metadata": {},
   "source": [
    "# Задание 5"
   ]
  },
  {
   "cell_type": "code",
   "execution_count": 227,
   "id": "3e2703e9",
   "metadata": {},
   "outputs": [
    {
     "data": {
      "text/plain": [
       "[{'id': 139029,\n",
       "  'name': 'Смартфон Xiaomi Redmi 9A 2/32GB Grey RU (Global Version)',\n",
       "  'price': 5390,\n",
       "  'Диагональ экрана (точно)': '6.53',\n",
       "  'Количество ядер процессора': '8',\n",
       "  'Разрешение основной камеры (точно)': '13',\n",
       "  'Оперативная память': '2',\n",
       "  'Емкость аккумулятора (точно)': '5000',\n",
       "  'isavailable': 'Есть'},\n",
       " {'id': 145740,\n",
       "  'name': 'Смартфон Xiaomi Redmi A2+ 3/64GB Black RU (Global Version)',\n",
       "  'price': 5590,\n",
       "  'isavailable': 'Есть'},\n",
       " {'id': 145824,\n",
       "  'name': 'Смартфон Xiaomi Redmi A2+ 3/64GB Green RU (Global Version)',\n",
       "  'price': 5990,\n",
       "  'isavailable': 'Есть'}]"
      ]
     },
     "execution_count": 227,
     "metadata": {},
     "output_type": "execute_result"
    }
   ],
   "source": [
    "fns = os.listdir('./intel-ekt')\n",
    "\n",
    "data = []\n",
    "for i, fn in enumerate(fns):\n",
    "    with open(f'./intel-ekt/{fn}', encoding=\"utf-8\") as f:\n",
    "        lines = f.read()\n",
    "    bs = BeautifulSoup(lines, 'html.parser')\n",
    "    for product in bs.find_all('div', {\"class\": \"main_list_product\"}):\n",
    "        idx = len(data)\n",
    "        data.append({})\n",
    "        \n",
    "        data[idx]['id'] = int(product.find_all('div', {\"class\": \"img\"})[0].find_all('a')[0].attrs['href'].split('/')[-2])\n",
    "        data[idx]['name'] = product.find_all('div', {\"class\": \"name\"})[0].text\n",
    "        if len(product.find_all('div', {\"class\": \"sprice\"})) != 0:\n",
    "            data[idx]['price'] = int(''.join(product.find_all('div', {\"class\": \"sprice\"})[0].text.split()[:-1]))\n",
    "        for option in product.find_all('div', {\"class\": \"options\"})[0].text.split('; '):\n",
    "            split = option.split(': ')\n",
    "            if len(split) != 2:\n",
    "                continue\n",
    "            name, value = split\n",
    "            \n",
    "            if name in ['Количество ядер процессора', 'Разрешение основной камеры (точно)', 'Оперативная память', 'Емкость аккумулятора (точно)']:\n",
    "                data[idx][name] = int(value.strip().split()[0].replace('.', ''))\n",
    "            elif name in ['Диагональ экрана (точно)']:\n",
    "                data[idx][name] = float(value.strip().split()[0])\n",
    "            else:\n",
    "                data[idx][name] = value.strip()\n",
    "                \n",
    "            data[idx][name] = value.strip().split()[0]\n",
    "        \n",
    "        if len(product.find_all('div', {\"class\": \"available\"})) != 0:\n",
    "            data[idx]['isavailable'] = product.find_all('div', {\"class\": \"available\"})[0].text\n",
    "\n",
    "data[:3]"
   ]
  },
  {
   "cell_type": "code",
   "execution_count": 228,
   "id": "d74b9321",
   "metadata": {},
   "outputs": [
    {
     "data": {
      "text/plain": [
       "[{'id': 143298,\n",
       "  'name': 'Смартфон OnePlus Ace(10R) 12/256GB PGKM10 Light_Blue',\n",
       "  'price': 32590,\n",
       "  'isavailable': 'Есть'},\n",
       " {'id': 143299,\n",
       "  'name': 'Смартфон OnePlus Ace(10R) 12/256GB PGKM10 Black',\n",
       "  'price': 31590,\n",
       "  'isavailable': 'Есть'},\n",
       " {'id': 143610,\n",
       "  'name': 'Смартфон OnePlus Ace(10R) 12/512GB PGKM10 Black',\n",
       "  'price': 33990,\n",
       "  'isavailable': 'Есть'}]"
      ]
     },
     "execution_count": 228,
     "metadata": {},
     "output_type": "execute_result"
    }
   ],
   "source": [
    "data = sorted(data, key=lambda x: x['id'])\n",
    "filtered_data = list(filter(lambda x: 'price' in x and x['price'] > 30000, data))\n",
    "\n",
    "with open('5_filtered.json', 'w') as f:\n",
    "    json.dump(filtered_data, f)\n",
    "    \n",
    "filtered_data[:3]"
   ]
  },
  {
   "cell_type": "code",
   "execution_count": 231,
   "id": "505ae77c",
   "metadata": {},
   "outputs": [
    {
     "name": "stdout",
     "output_type": "stream",
     "text": [
      "Сумма: 8300\n",
      "Минимум: 3300\n",
      "Максимум: 5000\n",
      "Среднее: 4150.0\n",
      "Медиана: 4150.0\n",
      "\n"
     ]
    }
   ],
   "source": [
    "capacity = [int(e['Емкость аккумулятора (точно)']) for e in data if 'Емкость аккумулятора (точно)' in e]\n",
    "print(f'Сумма: {str(np.sum(capacity))}\\n' +\n",
    "      f'Минимум: {str(np.min(capacity))}\\n' +\n",
    "      f'Максимум: {str(np.max(capacity))}\\n' +\n",
    "      f'Среднее: {str(np.mean(capacity))}\\n' +\n",
    "      f'Медиана: {str(np.median(capacity))}\\n')"
   ]
  },
  {
   "cell_type": "code",
   "execution_count": 236,
   "id": "0f1fcbd6",
   "metadata": {},
   "outputs": [
    {
     "name": "stdout",
     "output_type": "stream",
     "text": [
      "Частота:\n",
      " [('Есть', 57), ('Ленина, 56', 12), ('Декабристов, 27', 9)]\n"
     ]
    }
   ],
   "source": [
    "isavailable = [e['isavailable'] for e in data if 'isavailable' in e]\n",
    "\n",
    "freq = sorted(tuple(zip(*np.unique(isavailable, return_counts=True))), key=lambda x: x[1], reverse=True)\n",
    "print('Частота:\\n', freq)"
   ]
  },
  {
   "cell_type": "code",
   "execution_count": null,
   "id": "4f86823a",
   "metadata": {},
   "outputs": [],
   "source": []
  }
 ],
 "metadata": {
  "kernelspec": {
   "display_name": "Python 3 (ipykernel)",
   "language": "python",
   "name": "python3"
  },
  "language_info": {
   "codemirror_mode": {
    "name": "ipython",
    "version": 3
   },
   "file_extension": ".py",
   "mimetype": "text/x-python",
   "name": "python",
   "nbconvert_exporter": "python",
   "pygments_lexer": "ipython3",
   "version": "3.10.9"
  }
 },
 "nbformat": 4,
 "nbformat_minor": 5
}
