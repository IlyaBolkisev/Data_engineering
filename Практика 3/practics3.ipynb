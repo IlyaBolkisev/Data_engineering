{
 "cells": [
  {
   "cell_type": "markdown",
   "id": "c3a3b128",
   "metadata": {},
   "source": [
    "# Задание 1"
   ]
  },
  {
   "cell_type": "code",
   "execution_count": 1,
   "id": "84401bdc",
   "metadata": {},
   "outputs": [
    {
     "data": {
      "text/plain": [
       "[{'Город': 'Варшава',\n",
       "  'Этажи': 4,\n",
       "  'Год': 1945,\n",
       "  'Парковка': False,\n",
       "  'Рейтинг': 2.6,\n",
       "  'Просмотры': 66852,\n",
       "  'Строение': 'Стадион 54',\n",
       "  'Ссылка на изображение': '\"https://upload.build.com/641819.jpeg\"',\n",
       "  'Улица': 'Юбилейная улица 4',\n",
       "  'Индекс': 137266},\n",
       " {'Город': 'Таллин',\n",
       "  'Этажи': 8,\n",
       "  'Год': 1895,\n",
       "  'Парковка': False,\n",
       "  'Рейтинг': 4.6,\n",
       "  'Просмотры': 84318,\n",
       "  'Строение': 'Церковь 88',\n",
       "  'Ссылка на изображение': '\"https://upload.abc-build.it/996334.png\"',\n",
       "  'Улица': 'Речная улица 46',\n",
       "  'Индекс': 256827},\n",
       " {'Город': 'Тирана',\n",
       "  'Этажи': 10,\n",
       "  'Год': 1673,\n",
       "  'Парковка': False,\n",
       "  'Рейтинг': 3.3,\n",
       "  'Просмотры': 59832,\n",
       "  'Строение': 'Подвал 6',\n",
       "  'Ссылка на изображение': '\"https://upload.buybuild.org/78549.webp\"',\n",
       "  'Улица': 'Киевская улица 50',\n",
       "  'Индекс': 287783}]"
      ]
     },
     "execution_count": 1,
     "metadata": {},
     "output_type": "execute_result"
    }
   ],
   "source": [
    "import os\n",
    "from bs4 import BeautifulSoup\n",
    "\n",
    "fns = os.listdir('./1/zip_var_2')\n",
    "\n",
    "data = []\n",
    "for i, fn in enumerate(fns):\n",
    "    with open(f'./1/zip_var_2/{fn}', encoding=\"utf-8\") as f:\n",
    "        lines = f.read()\n",
    "    bs = BeautifulSoup(lines, 'html.parser')\n",
    "    \n",
    "    data.append({})\n",
    "    for row in [str(e).replace('</span>', '').split('>')[-1] for e in bs.find_all(\"span\")]:\n",
    "        if ':' in row:\n",
    "            k, v = row.replace(': ', ':').split(':')\n",
    "            data[i][k.strip()] = v.strip()\n",
    "        else:\n",
    "            data[i]['Год'] = row.strip()[-4:]\n",
    "    \n",
    "    data[i]['Строение'] = str(bs.find_all(\"h1\")[0]).replace('</h1>', '').split(':')[-1].strip()\n",
    "    data[i]['Ссылка на изображение'] = str(bs.find_all(\"img\")[0])[:-2].split('=')[-1]\n",
    "    \n",
    "    address = str(bs.find_all(\"p\")[0]).replace('</p>', '').replace('\\n     ','').split('>')[-1].split('Индекс:')\n",
    "    data[i]['Улица'] = address[0].replace('Улица: ', '').replace('Улица:', '')\n",
    "    data[i]['Индекс'] = address[1].strip()\n",
    "\n",
    "    for key in data[i]:\n",
    "        if data[i][key].replace('.', '').isdigit():\n",
    "            if '.' in data[i][key]:\n",
    "                data[i][key] = float(data[i][key])\n",
    "            else:\n",
    "                data[i][key] = int(data[i][key])\n",
    "        elif key == 'Парковка':\n",
    "            data[i][key] = data[i][key] == 'Есть'\n",
    "data[:3]"
   ]
  },
  {
   "cell_type": "code",
   "execution_count": 2,
   "id": "181852a2",
   "metadata": {},
   "outputs": [
    {
     "data": {
      "text/plain": [
       "[{'Город': 'Загреб',\n",
       "  'Этажи': 5,\n",
       "  'Год': 1619,\n",
       "  'Парковка': False,\n",
       "  'Рейтинг': 5.0,\n",
       "  'Просмотры': 72049,\n",
       "  'Строение': 'Мост 95',\n",
       "  'Ссылка на изображение': '\"https://upload.build.com/8666.jpg\"',\n",
       "  'Улица': 'Варшавская улица 20',\n",
       "  'Индекс': 227972},\n",
       " {'Город': 'Луго',\n",
       "  'Этажи': 6,\n",
       "  'Год': 1625,\n",
       "  'Парковка': False,\n",
       "  'Рейтинг': 5.0,\n",
       "  'Просмотры': 69296,\n",
       "  'Строение': 'Особняк 5',\n",
       "  'Ссылка на изображение': '\"https://upload.abc-build.it/532079.svg\"',\n",
       "  'Улица': 'Зимняя улица 62',\n",
       "  'Индекс': 378903},\n",
       " {'Город': 'Лас-Росас',\n",
       "  'Этажи': 7,\n",
       "  'Год': 1649,\n",
       "  'Парковка': False,\n",
       "  'Рейтинг': 5.0,\n",
       "  'Просмотры': 21923,\n",
       "  'Строение': 'Тенета 6',\n",
       "  'Ссылка на изображение': '\"https://upload.build.com/319794.webp\"',\n",
       "  'Улица': 'Зимняя улица 53',\n",
       "  'Индекс': 206590}]"
      ]
     },
     "execution_count": 2,
     "metadata": {},
     "output_type": "execute_result"
    }
   ],
   "source": [
    "import json\n",
    "\n",
    "\n",
    "data = sorted(data, key=lambda x: x['Год'])\n",
    "filtered_data = list(filter(lambda x: x['Рейтинг'] == 5, data))\n",
    "\n",
    "with open('1_filtered.json', 'w', encoding=\"utf-8\") as f:\n",
    "    json.dump(filtered_data, f, ensure_ascii=True)\n",
    "    \n",
    "filtered_data[:3]"
   ]
  },
  {
   "cell_type": "code",
   "execution_count": 3,
   "id": "32b6acb7",
   "metadata": {},
   "outputs": [],
   "source": [
    "import numpy as np\n",
    "\n",
    "floor = [e['Этажи'] for e in data]\n",
    "stats = {'Сумма': str(np.sum(floor)),\n",
    "         'Минимум': str(np.min(floor)),\n",
    "         'Максимум': str(np.max(floor)),\n",
    "         'Среднее': str(np.mean(floor)),\n",
    "         'Медиана': str(np.median(floor))}\n",
    "\n",
    "with open(\"1_stats.json\", \"w\", encoding=\"utf-8\") as outfile: \n",
    "    json.dump(stats, outfile, ensure_ascii=True)"
   ]
  },
  {
   "cell_type": "code",
   "execution_count": 4,
   "id": "c9b8cb6c",
   "metadata": {},
   "outputs": [],
   "source": [
    "city = [e['Город'] for e in data]\n",
    "\n",
    "freq = sorted(tuple(zip(*np.unique(city, return_counts=True))), key=lambda x: x[1], reverse=True)\n",
    "freq = {e[0]: str(e[1]) for e in freq}\n",
    "with open(\"1_freq.json\", \"w\", encoding=\"utf-8\") as outfile: \n",
    "    json.dump(freq, outfile, ensure_ascii=True)"
   ]
  },
  {
   "cell_type": "markdown",
   "id": "167bb560",
   "metadata": {},
   "source": [
    "# Задание 2"
   ]
  },
  {
   "cell_type": "code",
   "execution_count": 5,
   "id": "0a0ee29c",
   "metadata": {},
   "outputs": [
    {
     "data": {
      "text/plain": [
       "[{'id': 35593,\n",
       "  'name': '6.7\" Samsung 224GB',\n",
       "  'link': '/product/35593',\n",
       "  'price': 413700,\n",
       "  'bonus': 4137,\n",
       "  'sim': '2 SIM',\n",
       "  'matrix': 'OLED'},\n",
       " {'id': 11194,\n",
       "  'name': '5.2\" OPPO 144GB',\n",
       "  'link': '/product/11194',\n",
       "  'price': 327740,\n",
       "  'bonus': 3277,\n",
       "  'processor': '2x3.4 ГГц',\n",
       "  'ram': '8 GB',\n",
       "  'sim': '3 SIM',\n",
       "  'matrix': 'OLED',\n",
       "  'resolution': '1280x1200',\n",
       "  'camera': '92 MP',\n",
       "  'acc': '2392 мА * ч'},\n",
       " {'id': 20938,\n",
       "  'name': '7.3\" Marvell 112GB',\n",
       "  'link': '/product/20938',\n",
       "  'price': 317261,\n",
       "  'bonus': 3172,\n",
       "  'processor': '2x4.6 ГГц',\n",
       "  'ram': '9 GB',\n",
       "  'sim': '1 SIM',\n",
       "  'matrix': 'OLED',\n",
       "  'resolution': '1366x1080',\n",
       "  'acc': '4308 мА * ч'}]"
      ]
     },
     "execution_count": 5,
     "metadata": {},
     "output_type": "execute_result"
    }
   ],
   "source": [
    "fns = os.listdir('./2/zip_var_2')\n",
    "\n",
    "data = []\n",
    "for i, fn in enumerate(fns):\n",
    "    with open(f'./2/zip_var_2/{fn}', encoding=\"utf-8\") as f:\n",
    "        lines = f.read()\n",
    "    bs = BeautifulSoup(lines, 'html.parser')\n",
    "    \n",
    "    for product in bs.find_all(\"div\", attrs={'class':\"product-item\"}):\n",
    "        idx = len(data)\n",
    "        data.append({})\n",
    "        \n",
    "        data[idx]['id'] = int(product.find_all('a')[0].attrs['data-id'])\n",
    "        data[idx]['name'] = product.find_all('span')[0].text.strip()\n",
    "        data[idx]['link'] = product.find_all('a')[1].attrs['href']\n",
    "        data[idx]['price'] = int(product.find_all('price')[0].text.replace('₽', '').replace(' ', ''))\n",
    "        data[idx]['bonus'] = int(product.find_all('strong')[0].text.split()[2])\n",
    "        for category in product.find_all('li'):\n",
    "            data[idx][category.attrs['type'].strip()] = category.text.strip()\n",
    "        break\n",
    "    \n",
    "   \n",
    "data[:3]"
   ]
  },
  {
   "cell_type": "code",
   "execution_count": 6,
   "id": "9ee7573d",
   "metadata": {},
   "outputs": [
    {
     "data": {
      "text/plain": [
       "[{'id': 18503,\n",
       "  'name': '7.4\" Huawei P 240GB',\n",
       "  'link': '/product/18503',\n",
       "  'price': 44227,\n",
       "  'bonus': 442,\n",
       "  'ram': '8 GB',\n",
       "  'acc': '3618 мА * ч'},\n",
       " {'id': 19413,\n",
       "  'name': '5.3\" iPhone 13 160GB',\n",
       "  'link': '/product/19413',\n",
       "  'price': 91001,\n",
       "  'bonus': 910,\n",
       "  'processor': '4x4.2 ГГц',\n",
       "  'sim': '1 SIM',\n",
       "  'matrix': 'IPS',\n",
       "  'resolution': '1600x1080',\n",
       "  'camera': '16 MP'},\n",
       " {'id': 19706,\n",
       "  'name': '6.0\" Qualcomm 128GB',\n",
       "  'link': '/product/19706',\n",
       "  'price': 84349,\n",
       "  'bonus': 843,\n",
       "  'processor': '4x2.6 ГГц',\n",
       "  'ram': '7 GB',\n",
       "  'sim': '2 SIM',\n",
       "  'matrix': 'OLED',\n",
       "  'camera': '20 MP',\n",
       "  'acc': '3666 мА * ч'}]"
      ]
     },
     "execution_count": 6,
     "metadata": {},
     "output_type": "execute_result"
    }
   ],
   "source": [
    "data = sorted(data, key=lambda x: x['id'])\n",
    "filtered_data = list(filter(lambda x: x['price'] < 100000, data))\n",
    "\n",
    "with open('2_filtered.json', 'w', encoding=\"utf-8\") as f:\n",
    "    json.dump(filtered_data, f, ensure_ascii=True)\n",
    "    \n",
    "filtered_data[:3]"
   ]
  },
  {
   "cell_type": "code",
   "execution_count": 7,
   "id": "a28bcae7",
   "metadata": {},
   "outputs": [],
   "source": [
    "bonus = [e['bonus'] for e in data]\n",
    "stats = {'Сумма': str(np.sum(bonus)),\n",
    "         'Минимум': str(np.min(bonus)),\n",
    "         'Максимум': str(np.max(bonus)),\n",
    "         'Среднее': str(np.mean(bonus)),\n",
    "         'Медиана': str(np.median(bonus))}\n",
    "\n",
    "with open(\"2_stats.json\", \"w\", encoding=\"utf-8\") as outfile: \n",
    "    json.dump(stats, outfile, ensure_ascii=True)"
   ]
  },
  {
   "cell_type": "code",
   "execution_count": 8,
   "id": "696711dd",
   "metadata": {},
   "outputs": [],
   "source": [
    "matrix = [e['matrix'] for e in data if 'matrix' in e]\n",
    "\n",
    "freq = sorted(tuple(zip(*np.unique(matrix, return_counts=True))), key=lambda x: x[1], reverse=True)\n",
    "freq = {e[0]: str(e[1]) for e in freq}\n",
    "with open(\"2_freq.json\", \"w\", encoding=\"utf-8\") as outfile: \n",
    "    json.dump(freq, outfile, ensure_ascii=True)"
   ]
  },
  {
   "cell_type": "markdown",
   "id": "b490ff01",
   "metadata": {},
   "source": [
    "# Задание 3"
   ]
  },
  {
   "cell_type": "code",
   "execution_count": 9,
   "id": "2114e625",
   "metadata": {},
   "outputs": [
    {
     "data": {
      "text/plain": [
       "[{'name': 'Солнце 4968',\n",
       "  'constellation': 'Водолей',\n",
       "  'spectral-class': 'F8Y',\n",
       "  'radius': 235308875,\n",
       "  'rotation': 432.44,\n",
       "  'age': 1.18,\n",
       "  'distance': 507925.62,\n",
       "  'absolute-magnitude': 2.98},\n",
       " {'name': 'Антарес 2462',\n",
       "  'constellation': 'Близнецы',\n",
       "  'spectral-class': 'A2V',\n",
       "  'radius': 803967522,\n",
       "  'rotation': 569.55,\n",
       "  'age': 0.07,\n",
       "  'distance': 7464771.22,\n",
       "  'absolute-magnitude': 7.59},\n",
       " {'name': 'Бетельгейзе 2041',\n",
       "  'constellation': 'Дева',\n",
       "  'spectral-class': 'U5H',\n",
       "  'radius': 862039415,\n",
       "  'rotation': 898.84,\n",
       "  'age': 5.96,\n",
       "  'distance': 6219264.48,\n",
       "  'absolute-magnitude': 5.22}]"
      ]
     },
     "execution_count": 9,
     "metadata": {},
     "output_type": "execute_result"
    }
   ],
   "source": [
    "fns = os.listdir('./3/zip_var_2')\n",
    "\n",
    "data = []\n",
    "for i, fn in enumerate(fns):\n",
    "    with open(f'./3/zip_var_2/{fn}', encoding=\"utf-8\") as f:\n",
    "        lines = f.read()\n",
    "    bs = BeautifulSoup(lines, 'xml')\n",
    "    idx = len(data)\n",
    "    data.append({})\n",
    "    for item in [e for e in list(bs.find_all('star')[0].children) if e != '\\n']:\n",
    "        if item.name == 'radius':\n",
    "            data[idx][item.name] = int(item.text.strip())\n",
    "        elif item.name in ['rotation', 'age', 'distance', 'absolute-magnitude'] :\n",
    "            data[idx][item.name] = float(item.text.strip().split()[0])\n",
    "        else:\n",
    "            data[idx][item.name] = item.text.strip()\n",
    "   \n",
    "data[:3]"
   ]
  },
  {
   "cell_type": "code",
   "execution_count": 10,
   "id": "5eb3ccdd",
   "metadata": {},
   "outputs": [
    {
     "data": {
      "text/plain": [
       "[{'name': 'Акрукс 4340',\n",
       "  'constellation': 'Рак',\n",
       "  'spectral-class': 'V9X',\n",
       "  'radius': 417456698,\n",
       "  'rotation': 374.06,\n",
       "  'age': 0.08,\n",
       "  'distance': 309329.91,\n",
       "  'absolute-magnitude': 6.17},\n",
       " {'name': 'Антарес 1313',\n",
       "  'constellation': 'Козерог',\n",
       "  'spectral-class': 'M0G',\n",
       "  'radius': 137317045,\n",
       "  'rotation': 981.57,\n",
       "  'age': 0.23,\n",
       "  'distance': 352157.54,\n",
       "  'absolute-magnitude': 1.47},\n",
       " {'name': 'Фомальгаут 2006',\n",
       "  'constellation': 'Рыбы',\n",
       "  'spectral-class': 'X7P',\n",
       "  'radius': 29872177,\n",
       "  'rotation': 333.15,\n",
       "  'age': 0.4,\n",
       "  'distance': 225975.39,\n",
       "  'absolute-magnitude': 1.05}]"
      ]
     },
     "execution_count": 10,
     "metadata": {},
     "output_type": "execute_result"
    }
   ],
   "source": [
    "data = sorted(data, key=lambda x: x['age'])\n",
    "filtered_data = list(filter(lambda x: x['distance'] < 500000, data))\n",
    "\n",
    "with open('3_filtered.json', 'w', encoding=\"utf-8\") as f:\n",
    "    json.dump(filtered_data, f, ensure_ascii=True)\n",
    "    \n",
    "filtered_data[:3]"
   ]
  },
  {
   "cell_type": "code",
   "execution_count": 11,
   "id": "639c070b",
   "metadata": {},
   "outputs": [],
   "source": [
    "absolute_magnitude = [e['absolute-magnitude'] for e in data]\n",
    "stats = {'Сумма': str(np.sum(absolute_magnitude)),\n",
    "         'Минимум': str(np.min(absolute_magnitude)),\n",
    "         'Максимум': str(np.max(absolute_magnitude)),\n",
    "         'Среднее': str(np.mean(absolute_magnitude)),\n",
    "         'Медиана': str(np.median(absolute_magnitude))}\n",
    "\n",
    "with open(\"3_stats.json\", \"w\", encoding=\"utf-8\") as outfile: \n",
    "    json.dump(stats, outfile, ensure_ascii=True)"
   ]
  },
  {
   "cell_type": "code",
   "execution_count": 12,
   "id": "01f7496f",
   "metadata": {},
   "outputs": [],
   "source": [
    "constellation = [e['constellation'] for e in data if 'constellation' in e]\n",
    "\n",
    "freq = sorted(tuple(zip(*np.unique(constellation, return_counts=True))), key=lambda x: x[1], reverse=True)\n",
    "freq = {e[0]: str(e[1]) for e in freq}\n",
    "with open(\"3_freq.json\", \"w\", encoding=\"utf-8\") as outfile: \n",
    "    json.dump(freq, outfile, ensure_ascii=True)"
   ]
  },
  {
   "cell_type": "markdown",
   "id": "772473b2",
   "metadata": {},
   "source": [
    "# Задание 4"
   ]
  },
  {
   "cell_type": "code",
   "execution_count": 13,
   "id": "9a9b24b4",
   "metadata": {},
   "outputs": [
    {
     "data": {
      "text/plain": [
       "[{'id': 144380275,\n",
       "  'name': 'Adidas Skirt L-8488',\n",
       "  'category': 'Skirt',\n",
       "  'size': 'M',\n",
       "  'color': 'Синий',\n",
       "  'material': 'Лен',\n",
       "  'price': 561262,\n",
       "  'rating': 1.6,\n",
       "  'reviews': 741865,\n",
       "  'new': False,\n",
       "  'exclusive': True,\n",
       "  'sporty': False},\n",
       " {'id': 144380275,\n",
       "  'name': 'Adidas Skirt L-8488',\n",
       "  'category': 'Skirt',\n",
       "  'size': 'M',\n",
       "  'color': 'Синий',\n",
       "  'material': 'Лен',\n",
       "  'price': 561262,\n",
       "  'rating': 1.6,\n",
       "  'reviews': 741865,\n",
       "  'new': False,\n",
       "  'exclusive': True,\n",
       "  'sporty': False},\n",
       " {'id': 144380275,\n",
       "  'name': 'Adidas Skirt L-8488',\n",
       "  'category': 'Skirt',\n",
       "  'size': 'M',\n",
       "  'color': 'Синий',\n",
       "  'material': 'Лен',\n",
       "  'price': 561262,\n",
       "  'rating': 1.6,\n",
       "  'reviews': 741865,\n",
       "  'new': False,\n",
       "  'exclusive': True,\n",
       "  'sporty': False}]"
      ]
     },
     "execution_count": 13,
     "metadata": {},
     "output_type": "execute_result"
    }
   ],
   "source": [
    "fns = os.listdir('./4/zip_var_2')\n",
    "\n",
    "data = []\n",
    "for i, fn in enumerate(fns):\n",
    "    with open(f'./4/zip_var_2/{fn}', encoding=\"utf-8\") as f:\n",
    "        lines = f.read()\n",
    "    bs = BeautifulSoup(lines, 'xml')\n",
    "    for clothing in bs.find_all('clothing'):\n",
    "        idx = len(data)\n",
    "        data.append({})\n",
    "        for item in [e for e in list(bs.find_all('clothing')[0].children) if e != '\\n']:\n",
    "            if item.name in ['id', 'price', 'reviews']:\n",
    "                data[idx][item.name] = int(item.text.strip())\n",
    "            elif item.name == 'rating':\n",
    "                data[idx][item.name] = float(item.text.strip())\n",
    "            elif item.name in ['exclusive', 'sporty', 'new']:\n",
    "                data[idx][item.name] = item.text.strip() in ['yes', '+']\n",
    "            else:\n",
    "                data[idx][item.name] = item.text.strip()\n",
    "                \n",
    "data[:3]"
   ]
  },
  {
   "cell_type": "code",
   "execution_count": 14,
   "id": "39749511",
   "metadata": {},
   "outputs": [
    {
     "data": {
      "text/plain": [
       "[{'id': 115417128,\n",
       "  'name': 'Under Armour Jacket S-6440',\n",
       "  'category': 'Jacket',\n",
       "  'size': 'L',\n",
       "  'color': 'Синий',\n",
       "  'material': 'Нейлон',\n",
       "  'price': 437580,\n",
       "  'rating': 4.71,\n",
       "  'reviews': 957281,\n",
       "  'sporty': False},\n",
       " {'id': 115417128,\n",
       "  'name': 'Under Armour Jacket S-6440',\n",
       "  'category': 'Jacket',\n",
       "  'size': 'L',\n",
       "  'color': 'Синий',\n",
       "  'material': 'Нейлон',\n",
       "  'price': 437580,\n",
       "  'rating': 4.71,\n",
       "  'reviews': 957281,\n",
       "  'sporty': False},\n",
       " {'id': 115417128,\n",
       "  'name': 'Under Armour Jacket S-6440',\n",
       "  'category': 'Jacket',\n",
       "  'size': 'L',\n",
       "  'color': 'Синий',\n",
       "  'material': 'Нейлон',\n",
       "  'price': 437580,\n",
       "  'rating': 4.71,\n",
       "  'reviews': 957281,\n",
       "  'sporty': False}]"
      ]
     },
     "execution_count": 14,
     "metadata": {},
     "output_type": "execute_result"
    }
   ],
   "source": [
    "data = sorted(data, key=lambda x: x['id'])\n",
    "filtered_data = list(filter(lambda x: x['rating'] > 4, data))\n",
    "\n",
    "with open('4_filtered.json', 'w', encoding=\"utf-8\") as f:\n",
    "    json.dump(filtered_data, f, ensure_ascii=True)\n",
    "    \n",
    "filtered_data[:3]"
   ]
  },
  {
   "cell_type": "code",
   "execution_count": 15,
   "id": "f439766b",
   "metadata": {},
   "outputs": [],
   "source": [
    "reviews = [e['reviews'] for e in data]\n",
    "stats = {'Сумма': str(np.sum(reviews)),\n",
    "         'Минимум': str(np.min(reviews)),\n",
    "         'Максимум': str(np.max(reviews)),\n",
    "         'Среднее': str(np.mean(reviews)),\n",
    "         'Медиана': str(np.median(reviews))}\n",
    "\n",
    "with open(\"4_stats.json\", \"w\", encoding=\"utf-8\") as outfile: \n",
    "    json.dump(stats, outfile, ensure_ascii=True)"
   ]
  },
  {
   "cell_type": "code",
   "execution_count": 16,
   "id": "8824c183",
   "metadata": {},
   "outputs": [],
   "source": [
    "size = [e['size'] for e in data]\n",
    "\n",
    "freq = sorted(tuple(zip(*np.unique(size, return_counts=True))), key=lambda x: x[1], reverse=True)\n",
    "freq = {e[0]: str(e[1]) for e in freq}\n",
    "with open(\"4_freq.json\", \"w\", encoding=\"utf-8\") as outfile: \n",
    "    json.dump(freq, outfile, ensure_ascii=True)"
   ]
  },
  {
   "cell_type": "markdown",
   "id": "4f12b7a5",
   "metadata": {},
   "source": [
    "# Задание 5 (несколько товаров)"
   ]
  },
  {
   "cell_type": "code",
   "execution_count": 17,
   "id": "3e2703e9",
   "metadata": {},
   "outputs": [
    {
     "data": {
      "text/plain": [
       "[{'id': 139029,\n",
       "  'name': 'Смартфон Xiaomi Redmi 9A 2/32GB Grey RU (Global Version)',\n",
       "  'price': 5390,\n",
       "  'Диагональ экрана (точно)': '6.53',\n",
       "  'Количество ядер процессора': '8',\n",
       "  'Разрешение основной камеры (точно)': '13',\n",
       "  'Оперативная память': '2',\n",
       "  'Емкость аккумулятора (точно)': '5000',\n",
       "  'isavailable': 'Есть'},\n",
       " {'id': 145740,\n",
       "  'name': 'Смартфон Xiaomi Redmi A2+ 3/64GB Black RU (Global Version)',\n",
       "  'price': 5590,\n",
       "  'isavailable': 'Есть'},\n",
       " {'id': 145824,\n",
       "  'name': 'Смартфон Xiaomi Redmi A2+ 3/64GB Green RU (Global Version)',\n",
       "  'price': 5990,\n",
       "  'isavailable': 'Есть'}]"
      ]
     },
     "execution_count": 17,
     "metadata": {},
     "output_type": "execute_result"
    }
   ],
   "source": [
    "fns = os.listdir('./intel-ekt_multi')\n",
    "\n",
    "data = []\n",
    "for i, fn in enumerate(fns):\n",
    "    with open(f'./intel-ekt_multi/{fn}', encoding=\"utf-8\") as f:\n",
    "        lines = f.read()\n",
    "    bs = BeautifulSoup(lines, 'html.parser')\n",
    "    for product in bs.find_all('div', {\"class\": \"main_list_product\"}):\n",
    "        idx = len(data)\n",
    "        data.append({})\n",
    "        \n",
    "        data[idx]['id'] = int(product.find_all('div', {\"class\": \"img\"})[0].find_all('a')[0].attrs['href'].split('/')[-2])\n",
    "        data[idx]['name'] = product.find_all('div', {\"class\": \"name\"})[0].text\n",
    "        if len(product.find_all('div', {\"class\": \"sprice\"})) != 0:\n",
    "            data[idx]['price'] = int(''.join(product.find_all('div', {\"class\": \"sprice\"})[0].text.split()[:-1]))\n",
    "        for option in product.find_all('div', {\"class\": \"options\"})[0].text.split('; '):\n",
    "            split = option.split(': ')\n",
    "            if len(split) != 2:\n",
    "                continue\n",
    "            name, value = split\n",
    "            \n",
    "            if name in ['Количество ядер процессора', 'Разрешение основной камеры (точно)', 'Оперативная память', 'Емкость аккумулятора (точно)']:\n",
    "                data[idx][name] = int(value.strip().split()[0].replace('.', ''))\n",
    "            elif name in ['Диагональ экрана (точно)']:\n",
    "                data[idx][name] = float(value.strip().split()[0])\n",
    "            else:\n",
    "                data[idx][name] = value.strip()\n",
    "                \n",
    "            data[idx][name] = value.strip().split()[0]\n",
    "        \n",
    "        if len(product.find_all('div', {\"class\": \"available\"})) != 0:\n",
    "            data[idx]['isavailable'] = product.find_all('div', {\"class\": \"available\"})[0].text\n",
    "\n",
    "data[:3]"
   ]
  },
  {
   "cell_type": "code",
   "execution_count": 18,
   "id": "d74b9321",
   "metadata": {},
   "outputs": [
    {
     "data": {
      "text/plain": [
       "[{'id': 143298,\n",
       "  'name': 'Смартфон OnePlus Ace(10R) 12/256GB PGKM10 Light_Blue',\n",
       "  'price': 32590,\n",
       "  'isavailable': 'Есть'},\n",
       " {'id': 143299,\n",
       "  'name': 'Смартфон OnePlus Ace(10R) 12/256GB PGKM10 Black',\n",
       "  'price': 31590,\n",
       "  'isavailable': 'Есть'},\n",
       " {'id': 143610,\n",
       "  'name': 'Смартфон OnePlus Ace(10R) 12/512GB PGKM10 Black',\n",
       "  'price': 33990,\n",
       "  'isavailable': 'Есть'}]"
      ]
     },
     "execution_count": 18,
     "metadata": {},
     "output_type": "execute_result"
    }
   ],
   "source": [
    "data = sorted(data, key=lambda x: x['id'])\n",
    "filtered_data = list(filter(lambda x: 'price' in x and x['price'] > 30000, data))\n",
    "\n",
    "with open('5_multi_filtered.json', 'w', encoding=\"utf-8\") as f:\n",
    "    json.dump(filtered_data, f, ensure_ascii=True)\n",
    "    \n",
    "filtered_data[:3]"
   ]
  },
  {
   "cell_type": "code",
   "execution_count": 19,
   "id": "505ae77c",
   "metadata": {},
   "outputs": [],
   "source": [
    "capacity = [int(e['Емкость аккумулятора (точно)']) for e in data if 'Емкость аккумулятора (точно)' in e]\n",
    "stats = {'Сумма': str(np.sum(capacity)),\n",
    "         'Минимум': str(np.min(capacity)),\n",
    "         'Максимум': str(np.max(capacity)),\n",
    "         'Среднее': str(np.mean(capacity)),\n",
    "         'Медиана': str(np.median(capacity))}\n",
    "\n",
    "with open(\"5_multi_stats.json\", \"w\", encoding=\"utf-8\") as outfile: \n",
    "    json.dump(stats, outfile, ensure_ascii=True)"
   ]
  },
  {
   "cell_type": "code",
   "execution_count": 20,
   "id": "0f1fcbd6",
   "metadata": {},
   "outputs": [],
   "source": [
    "isavailable = [e['isavailable'] for e in data if 'isavailable' in e]\n",
    "\n",
    "freq = sorted(tuple(zip(*np.unique(isavailable, return_counts=True))), key=lambda x: x[1], reverse=True)\n",
    "freq = {e[0]: str(e[1]) for e in freq}\n",
    "with open(\"5_multi_freq.json\", \"w\", encoding=\"utf-8\") as outfile: \n",
    "    json.dump(freq, outfile, ensure_ascii=True)"
   ]
  },
  {
   "cell_type": "markdown",
   "id": "44ee492f",
   "metadata": {},
   "source": [
    "# Задание 5 (один товаров)"
   ]
  },
  {
   "cell_type": "code",
   "execution_count": 22,
   "id": "9fab3f55",
   "metadata": {},
   "outputs": [
    {
     "data": {
      "text/plain": [
       "[{'id': 139029,\n",
       "  'name': 'Смартфон Xiaomi Redmi 9A 2/32GB Grey RU (Global Version)',\n",
       "  'price': 5390,\n",
       "  'isavailable': 'ул. Ленина, 56 ул. Декабристов, 27',\n",
       "  'delivery': ['Курьером: от 250 руб. Завтра', 'Самовывоз, бесплатно.']},\n",
       " {'id': 143839,\n",
       "  'name': 'Смартфон Xiaomi Pocophone M5s NFC 4/128Gb Blue EU (Global Version)',\n",
       "  'price': 13990,\n",
       "  'isavailable': 'ул. Ленина, 56 ул. Декабристов, 27',\n",
       "  'delivery': ['Курьером: от 250 руб. Завтра', 'Самовывоз, бесплатно.']},\n",
       " {'id': 145740,\n",
       "  'name': 'Смартфон Xiaomi Redmi A2+ 3/64GB Black RU (Global Version)',\n",
       "  'price': 5590,\n",
       "  'isavailable': 'ул. Ленина, 56 ул. Декабристов, 27',\n",
       "  'delivery': ['Курьером: от 250 руб. Завтра', 'Самовывоз, бесплатно.']}]"
      ]
     },
     "execution_count": 22,
     "metadata": {},
     "output_type": "execute_result"
    }
   ],
   "source": [
    "fns = os.listdir('./intel-ekt_single')\n",
    "\n",
    "data = []\n",
    "for i, fn in enumerate(fns):\n",
    "    with open(f'./intel-ekt_single/{fn}', encoding=\"utf-8\") as f:\n",
    "        lines = f.read()\n",
    "    bs = BeautifulSoup(lines, 'html.parser').find_all('table', {'class': 'product'})[0]\n",
    "    data.append({})\n",
    "        \n",
    "    data[i]['id'] = int(bs.find_all('td', {'class': 'idcode'})[0].text.strip().split()[1])\n",
    "    data[i]['name'] = bs.find_all('img')[0].attrs['title']\n",
    "    data[i]['price'] = int(''.join(bs.find_all('div', {'class': 'price'})[0].text.replace('\\xa0', '').split(' ')[:-1])) \n",
    "    data[i]['isavailable'] = bs.find_all('div', {'class': 'available_on'})[0].text.split(': ')[-1]\n",
    "    data[i]['delivery'] = [e.text.strip() for e in bs.find_all('div', {'class': 'item'})]\n",
    "data[:3]"
   ]
  },
  {
   "cell_type": "code",
   "execution_count": 23,
   "id": "49a87051",
   "metadata": {},
   "outputs": [
    {
     "data": {
      "text/plain": [
       "[{'id': 143512,\n",
       "  'name': 'Смартфон Xiaomi Redmi 10 (2022) NFC 4/128Gb Blue EU (Global Version)',\n",
       "  'price': 12990,\n",
       "  'isavailable': 'ул. Ленина, 56 ул. Декабристов, 27',\n",
       "  'delivery': ['Курьером: от 250 руб. Завтра', 'Самовывоз, бесплатно.']},\n",
       " {'id': 143839,\n",
       "  'name': 'Смартфон Xiaomi Pocophone M5s NFC 4/128Gb Blue EU (Global Version)',\n",
       "  'price': 13990,\n",
       "  'isavailable': 'ул. Ленина, 56 ул. Декабристов, 27',\n",
       "  'delivery': ['Курьером: от 250 руб. Завтра', 'Самовывоз, бесплатно.']},\n",
       " {'id': 145236,\n",
       "  'name': 'Смартфон Xiaomi Redmi 12 4/128Gb Blue NFC RU (Global Version)',\n",
       "  'price': 12990,\n",
       "  'isavailable': 'ул. Ленина, 56',\n",
       "  'delivery': ['Курьером: от 250 руб. Завтра',\n",
       "   'Самовывоз (ул. Ленина, 56), бесплатно.']}]"
      ]
     },
     "execution_count": 23,
     "metadata": {},
     "output_type": "execute_result"
    }
   ],
   "source": [
    "data = sorted(data, key=lambda x: x['id'])\n",
    "filtered_data = list(filter(lambda x: 'price' in x and x['price'] > 10000, data))\n",
    "\n",
    "with open('5_single_filtered.json', 'w', encoding=\"utf-8\") as f:\n",
    "    json.dump(filtered_data, f, ensure_ascii=True)\n",
    "    \n",
    "filtered_data[:3]"
   ]
  },
  {
   "cell_type": "code",
   "execution_count": 24,
   "id": "39cb4a94",
   "metadata": {},
   "outputs": [],
   "source": [
    "price = [e['price'] for e in data]\n",
    "stats = {'Сумма': str(np.sum(price)),\n",
    "         'Минимум': str(np.min(price)),\n",
    "         'Максимум': str(np.max(price)),\n",
    "         'Среднее': str(np.mean(price)),\n",
    "         'Медиана': str(np.median(price))}\n",
    "\n",
    "with open(\"5_single_stats.json\", \"w\", encoding=\"utf-8\") as outfile: \n",
    "    json.dump(stats, outfile, ensure_ascii=True)"
   ]
  },
  {
   "cell_type": "code",
   "execution_count": 25,
   "id": "6d368310",
   "metadata": {},
   "outputs": [],
   "source": [
    "isavailable = [e['isavailable'] for e in data]\n",
    "\n",
    "freq = sorted(tuple(zip(*np.unique(isavailable, return_counts=True))), key=lambda x: x[1], reverse=True)\n",
    "freq = {e[0]: str(e[1]) for e in freq}\n",
    "with open(\"5_single_freq.json\", \"w\", encoding=\"utf-8\") as outfile: \n",
    "    json.dump(freq, outfile, ensure_ascii=True)"
   ]
  },
  {
   "cell_type": "code",
   "execution_count": null,
   "id": "103c3b5d",
   "metadata": {},
   "outputs": [],
   "source": []
  }
 ],
 "metadata": {
  "kernelspec": {
   "display_name": "Python 3 (ipykernel)",
   "language": "python",
   "name": "python3"
  },
  "language_info": {
   "codemirror_mode": {
    "name": "ipython",
    "version": 3
   },
   "file_extension": ".py",
   "mimetype": "text/x-python",
   "name": "python",
   "nbconvert_exporter": "python",
   "pygments_lexer": "ipython3",
   "version": "3.9.12"
  }
 },
 "nbformat": 4,
 "nbformat_minor": 5
}
